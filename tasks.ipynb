{
 "cells": [
  {
   "cell_type": "markdown",
   "id": "9944feb6",
   "metadata": {},
   "source": [
    "Activity / Task 1\n",
    "--"
   ]
  },
  {
   "cell_type": "markdown",
   "id": "58df21ad",
   "metadata": {},
   "source": [
    "Read the rr_temp_rh_24_30May21.csv. The file contains gridded data, the columns describe lat: latitude and lon: longitude for each datapoint, rr: total rainfall, tn weekly-mean daily-minimum temperature, tx: weekly-mean daily-maximum temperature and rh mean relative humidity\n",
    "<ol>\n",
    "<li> Generate spatial map for rainfall, maximum and minimum temperature and relative humidity </li>\n",
    "<li> Save figure to pdf and png </li>\n",
    "<li> Interpret the figures </li> \n",
    "</ol>"
   ]
  },
  {
   "cell_type": "code",
   "execution_count": null,
   "id": "e94ff10e",
   "metadata": {},
   "outputs": [],
   "source": []
  },
  {
   "cell_type": "markdown",
   "id": "dfb31130",
   "metadata": {},
   "source": [
    "Task 2\n",
    "--\n",
    "Read the file \"Tamale_CRU_rainfall.csv\" using genfromtxt\n",
    "<ol>\n",
    "<li> Create a subplot which contain a bar chart showing the August annual rainfall and a timeseries by compute the annaul rainfall total </li>\n",
    "<li> Create a bar chart for June rainfall and timeseries of the annual mean rainfall on the same figure. </li>\n",
    "<li> Save figures to png </li>\n",
    "    \n",
    "Note:label all your axes, add titles and legends\n",
    "</ol>\n",
    "\n"
   ]
  },
  {
   "cell_type": "code",
   "execution_count": null,
   "id": "71f62e77",
   "metadata": {},
   "outputs": [],
   "source": []
  },
  {
   "cell_type": "markdown",
   "id": "13670d85",
   "metadata": {},
   "source": [
    "\n",
    "Task 3\n",
    "--"
   ]
  },
  {
   "cell_type": "markdown",
   "id": "ccf57e85",
   "metadata": {},
   "source": [
    "<h3>Build an emulator, based on decision-making and iterations in Python, that mimicks how ATMs (Automated Teller Machines) work.</h3>\n",
    "\n",
    "<ol>\n",
    "<li> Greet the user and ask him what operation he likes to perform. </li>\n",
    "<li> Prompt the customer to input his/her ATM pin, which will be verified. </li>\n",
    "<li> For 3 wrong attempts, break out of the loop and prompt the user that his card has been blocked. Prompt him to visit the nearest branch for further authentication. </li>\n",
    "<li> If a correct pin is entered at any instance in the 3 allowed attempts, prompt the user that 'He/She is welcome'. Prompt her to logout when done with her activity. (Allow him/her to type in a given character when done). </li>\n",
    "<li> Once the right character is entered </li>\n",
    "    \n",
    "</ol>"
   ]
  },
  {
   "cell_type": "code",
   "execution_count": null,
   "id": "73a75dd9",
   "metadata": {},
   "outputs": [],
   "source": []
  }
 ],
 "metadata": {
  "kernelspec": {
   "display_name": "Python 3 (ipykernel)",
   "language": "python",
   "name": "python3"
  },
  "language_info": {
   "codemirror_mode": {
    "name": "ipython",
    "version": 3
   },
   "file_extension": ".py",
   "mimetype": "text/x-python",
   "name": "python",
   "nbconvert_exporter": "python",
   "pygments_lexer": "ipython3",
   "version": "3.8.12"
  }
 },
 "nbformat": 4,
 "nbformat_minor": 5
}
