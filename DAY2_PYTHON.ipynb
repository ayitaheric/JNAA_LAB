{
 "cells": [
  {
   "cell_type": "markdown",
   "id": "36bc6e49",
   "metadata": {},
   "source": [
    "LOOPS\n",
    "=\n",
    "WHILE LOOPS\n"
   ]
  },
  {
   "cell_type": "code",
   "execution_count": 6,
   "id": "2eab856c",
   "metadata": {},
   "outputs": [
    {
     "name": "stdout",
     "output_type": "stream",
     "text": [
      "This is day  1\n",
      "This is day  2\n",
      "This is day  3\n",
      "This is day  4\n",
      "This is day  5\n",
      "This is day  6\n",
      "This is day  7\n",
      "This is day  8\n",
      "This is day  9\n",
      "This is day  10\n",
      "This is day  11\n",
      "This is day  12\n",
      "This is day  13\n",
      "This is day  14\n",
      "This is day  15\n",
      "This is day  16\n",
      "This is day  17\n",
      "This is day  18\n",
      "This is day  19\n",
      "This is day  20\n",
      "This is day  21\n",
      "This is day  22\n",
      "This is day  23\n",
      "This is day  24\n",
      "This is day  25\n",
      "This is day  26\n",
      "This is day  27\n",
      "This is day  28\n",
      "This is day  29\n",
      "This is day  30\n",
      "This is day  31\n",
      "There's no such day\n"
     ]
    }
   ],
   "source": [
    "x=1\n",
    "while x<32:\n",
    "    print('This is day ', x)\n",
    "    x=x+1\n",
    "else:\n",
    "    print(\"There's no such day\")\n",
    "    "
   ]
  },
  {
   "cell_type": "code",
   "execution_count": 9,
   "id": "76b8c158",
   "metadata": {},
   "outputs": [
    {
     "name": "stdout",
     "output_type": "stream",
     "text": [
      "10 50.0\n",
      "15 59.0\n",
      "20 68.0\n",
      "25 77.0\n",
      "30 86.0\n",
      "35 95.0\n",
      "40 104.0\n",
      "45 113.0\n",
      "50 122.0\n",
      "55 131.0\n",
      "60 140.0\n",
      "65 149.0\n"
     ]
    }
   ],
   "source": [
    "t=10\n",
    "while t<70:\n",
    "    F=((9*t)/5)+32\n",
    "    print(t,F)\n",
    "    t=t+5\n",
    "    "
   ]
  },
  {
   "cell_type": "code",
   "execution_count": 12,
   "id": "e047ed35",
   "metadata": {},
   "outputs": [
    {
     "name": "stdout",
     "output_type": "stream",
     "text": [
      "5 278\n",
      "10 283\n",
      "15 288\n",
      "20 293\n",
      "25 298\n",
      "30 303\n",
      "35 308\n",
      "40 313\n",
      "45 318\n",
      "50 323\n",
      "55 328\n",
      "60 333\n",
      "65 338\n",
      "70 343\n",
      "75 348\n",
      "80 353\n"
     ]
    }
   ],
   "source": [
    "c=5\n",
    "while c<81:\n",
    "    K=273 + c\n",
    "    print(c,K)\n",
    "    c+=5"
   ]
  },
  {
   "cell_type": "markdown",
   "id": "d2ae671b",
   "metadata": {},
   "source": [
    "FOR LOOPS\n",
    "="
   ]
  },
  {
   "cell_type": "code",
   "execution_count": 15,
   "id": "25628fc4",
   "metadata": {},
   "outputs": [
    {
     "name": "stdout",
     "output_type": "stream",
     "text": [
      "P\n",
      "Y\n",
      "T\n",
      "H\n",
      "O\n",
      "N\n",
      " \n",
      "P\n",
      "R\n",
      "O\n",
      "G\n",
      "R\n",
      "A\n",
      "M\n"
     ]
    }
   ],
   "source": [
    "language='PYTHON PROGRAM'\n",
    "for l in language:\n",
    "    print(l)"
   ]
  },
  {
   "cell_type": "code",
   "execution_count": 17,
   "id": "37b0360e",
   "metadata": {},
   "outputs": [
    {
     "name": "stdout",
     "output_type": "stream",
     "text": [
      "6 She is in group one\n"
     ]
    }
   ],
   "source": [
    "interns=['Jannat','Eric','Daniel','Joycelyn']\n",
    "for n in interns:\n",
    "    if n=='Jannat':\n",
    "        print(len(n),\"She is in group one\")"
   ]
  },
  {
   "cell_type": "code",
   "execution_count": 19,
   "id": "70031b47",
   "metadata": {},
   "outputs": [],
   "source": [
    "import numpy as py"
   ]
  },
  {
   "cell_type": "code",
   "execution_count": 20,
   "id": "6add9f24",
   "metadata": {},
   "outputs": [],
   "source": [
    "days=py.arange(1,365) "
   ]
  },
  {
   "cell_type": "code",
   "execution_count": 21,
   "id": "f1337c0b",
   "metadata": {},
   "outputs": [
    {
     "data": {
      "text/plain": [
       "array([  1,   2,   3,   4,   5,   6,   7,   8,   9,  10,  11,  12,  13,\n",
       "        14,  15,  16,  17,  18,  19,  20,  21,  22,  23,  24,  25,  26,\n",
       "        27,  28,  29,  30,  31,  32,  33,  34,  35,  36,  37,  38,  39,\n",
       "        40,  41,  42,  43,  44,  45,  46,  47,  48,  49,  50,  51,  52,\n",
       "        53,  54,  55,  56,  57,  58,  59,  60,  61,  62,  63,  64,  65,\n",
       "        66,  67,  68,  69,  70,  71,  72,  73,  74,  75,  76,  77,  78,\n",
       "        79,  80,  81,  82,  83,  84,  85,  86,  87,  88,  89,  90,  91,\n",
       "        92,  93,  94,  95,  96,  97,  98,  99, 100, 101, 102, 103, 104,\n",
       "       105, 106, 107, 108, 109, 110, 111, 112, 113, 114, 115, 116, 117,\n",
       "       118, 119, 120, 121, 122, 123, 124, 125, 126, 127, 128, 129, 130,\n",
       "       131, 132, 133, 134, 135, 136, 137, 138, 139, 140, 141, 142, 143,\n",
       "       144, 145, 146, 147, 148, 149, 150, 151, 152, 153, 154, 155, 156,\n",
       "       157, 158, 159, 160, 161, 162, 163, 164, 165, 166, 167, 168, 169,\n",
       "       170, 171, 172, 173, 174, 175, 176, 177, 178, 179, 180, 181, 182,\n",
       "       183, 184, 185, 186, 187, 188, 189, 190, 191, 192, 193, 194, 195,\n",
       "       196, 197, 198, 199, 200, 201, 202, 203, 204, 205, 206, 207, 208,\n",
       "       209, 210, 211, 212, 213, 214, 215, 216, 217, 218, 219, 220, 221,\n",
       "       222, 223, 224, 225, 226, 227, 228, 229, 230, 231, 232, 233, 234,\n",
       "       235, 236, 237, 238, 239, 240, 241, 242, 243, 244, 245, 246, 247,\n",
       "       248, 249, 250, 251, 252, 253, 254, 255, 256, 257, 258, 259, 260,\n",
       "       261, 262, 263, 264, 265, 266, 267, 268, 269, 270, 271, 272, 273,\n",
       "       274, 275, 276, 277, 278, 279, 280, 281, 282, 283, 284, 285, 286,\n",
       "       287, 288, 289, 290, 291, 292, 293, 294, 295, 296, 297, 298, 299,\n",
       "       300, 301, 302, 303, 304, 305, 306, 307, 308, 309, 310, 311, 312,\n",
       "       313, 314, 315, 316, 317, 318, 319, 320, 321, 322, 323, 324, 325,\n",
       "       326, 327, 328, 329, 330, 331, 332, 333, 334, 335, 336, 337, 338,\n",
       "       339, 340, 341, 342, 343, 344, 345, 346, 347, 348, 349, 350, 351,\n",
       "       352, 353, 354, 355, 356, 357, 358, 359, 360, 361, 362, 363, 364])"
      ]
     },
     "execution_count": 21,
     "metadata": {},
     "output_type": "execute_result"
    }
   ],
   "source": [
    "days"
   ]
  },
  {
   "cell_type": "code",
   "execution_count": 22,
   "id": "f01eb239",
   "metadata": {},
   "outputs": [
    {
     "name": "stdout",
     "output_type": "stream",
     "text": [
      "1\n",
      "3\n",
      "5\n",
      "7\n",
      "9\n",
      "11\n",
      "13\n",
      "15\n",
      "17\n",
      "19\n"
     ]
    }
   ],
   "source": [
    "for x in range(1,20,2):\n",
    "    print(x)"
   ]
  },
  {
   "cell_type": "code",
   "execution_count": 30,
   "id": "b100ffa9",
   "metadata": {},
   "outputs": [
    {
     "name": "stdout",
     "output_type": "stream",
     "text": [
      "2\n",
      "4\n",
      "6\n",
      "8\n",
      "10\n",
      "12\n",
      "14\n",
      "16\n",
      "18\n",
      "20\n",
      "22\n",
      "24\n",
      "26\n",
      "28\n",
      "30\n",
      "32\n",
      "34\n",
      "36\n",
      "38\n",
      "40\n",
      "42\n",
      "44\n",
      "46\n",
      "48\n",
      "50\n",
      "52\n",
      "54\n",
      "56\n",
      "58\n",
      "60\n",
      "62\n",
      "64\n",
      "66\n",
      "68\n",
      "70\n",
      "72\n",
      "74\n",
      "76\n",
      "78\n",
      "80\n",
      "82\n",
      "84\n",
      "86\n",
      "88\n",
      "90\n",
      "92\n",
      "94\n",
      "96\n",
      "98\n",
      "The days above are even numbers\n"
     ]
    }
   ],
   "source": [
    "for x in range(2,100,2):\n",
    "    print(x)\n",
    "print('The days above are even numbers')"
   ]
  },
  {
   "cell_type": "markdown",
   "id": "b2b7e84e",
   "metadata": {},
   "source": [
    "NESTED LOOP\n",
    "=\n",
    "A loop within another loop"
   ]
  },
  {
   "cell_type": "code",
   "execution_count": 31,
   "id": "c14888dc",
   "metadata": {},
   "outputs": [],
   "source": [
    "A= py.arange(1,11,1)#an array is a range of numbers within a square bracket"
   ]
  },
  {
   "cell_type": "code",
   "execution_count": 32,
   "id": "d546d2fe",
   "metadata": {},
   "outputs": [
    {
     "data": {
      "text/plain": [
       "array([ 1,  2,  3,  4,  5,  6,  7,  8,  9, 10])"
      ]
     },
     "execution_count": 32,
     "metadata": {},
     "output_type": "execute_result"
    }
   ],
   "source": [
    "A"
   ]
  },
  {
   "cell_type": "code",
   "execution_count": 35,
   "id": "7252f80e",
   "metadata": {},
   "outputs": [
    {
     "name": "stdout",
     "output_type": "stream",
     "text": [
      "5 * 1 = 5\n",
      "5 * 2 = 10\n",
      "5 * 3 = 15\n",
      "5 * 4 = 20\n",
      "5 * 5 = 25\n",
      "5 * 6 = 30\n",
      "5 * 7 = 35\n",
      "5 * 8 = 40\n",
      "5 * 9 = 45\n",
      "5 * 10 = 50\n"
     ]
    }
   ],
   "source": [
    "A=[1,2,3,4,5,6,7,8,9,10]\n",
    "B=[5]\n",
    "for a in A:\n",
    "    for b in B:\n",
    "        y=a*b\n",
    "        print(b,'*',a,'=',y)"
   ]
  },
  {
   "cell_type": "code",
   "execution_count": 36,
   "id": "4d805765",
   "metadata": {},
   "outputs": [
    {
     "name": "stdout",
     "output_type": "stream",
     "text": [
      "3 + 2 + 1 = 6\n",
      "3 + 2 + 2 = 7\n",
      "3 + 4 + 1 = 8\n",
      "3 + 4 + 2 = 9\n",
      "5 + 2 + 1 = 8\n",
      "5 + 2 + 2 = 9\n",
      "5 + 4 + 1 = 10\n",
      "5 + 4 + 2 = 11\n"
     ]
    }
   ],
   "source": [
    "m=[2,4]\n",
    "n=[3,5]\n",
    "o=[1,2]\n",
    "for N in n:\n",
    "    for M in m:\n",
    "        for O in o:\n",
    "            u=N+M+O\n",
    "            print(N,\"+\",M,\"+\",O,\"=\",u)"
   ]
  },
  {
   "cell_type": "markdown",
   "id": "00a6ef79",
   "metadata": {},
   "source": [
    "LOOP CONTROL\n",
    "=\n",
    "BREAK, CONTINUE, PASS, ELSE"
   ]
  },
  {
   "cell_type": "markdown",
   "id": "099f8e14",
   "metadata": {},
   "source": [
    "BREAK\n",
    "="
   ]
  },
  {
   "cell_type": "code",
   "execution_count": 39,
   "id": "e346b55b",
   "metadata": {},
   "outputs": [
    {
     "name": "stdout",
     "output_type": "stream",
     "text": [
      "You are welcome\n"
     ]
    }
   ],
   "source": [
    "NAM=['Jane','Moses','Jannat and Eric','John']#input('Please enter your name ')\n",
    "for nm in NAM:\n",
    "    if nm =='Jannat and Eric':\n",
    "        print('You are welcome')\n",
    "        break"
   ]
  },
  {
   "cell_type": "code",
   "execution_count": 42,
   "id": "4b7a7ccb",
   "metadata": {},
   "outputs": [
    {
     "name": "stdout",
     "output_type": "stream",
     "text": [
      "Please enter your name Jannat and Eric\n",
      "You are welcome\n"
     ]
    }
   ],
   "source": [
    "mn=input('Please enter your name ')\n",
    "if mn =='Jannat and Eric':\n",
    "    print('You are welcome')\n",
    "    "
   ]
  },
  {
   "cell_type": "markdown",
   "id": "8221d73e",
   "metadata": {},
   "source": [
    "CONTINUE\n",
    "="
   ]
  },
  {
   "cell_type": "code",
   "execution_count": 46,
   "id": "9b57470e",
   "metadata": {},
   "outputs": [
    {
     "name": "stdout",
     "output_type": "stream",
     "text": [
      "The numbers is  1\n",
      "The numbers is  2\n",
      "The numbers is  3\n",
      "The numbers is  4\n",
      "The numbers is  5\n",
      "The numbers is  6\n",
      "The numbers is  7\n",
      "The numbers is  8\n",
      "The numbers is  9\n",
      "The numbers is  10\n",
      "This is number 11\n",
      "The numbers is  12\n",
      "The numbers is  13\n",
      "The numbers is  14\n",
      "The number is 15\n",
      "The numbers is  16\n",
      "The numbers is  17\n",
      "The numbers is  18\n",
      "The numbers is  19\n",
      "The numbers is  20\n"
     ]
    }
   ],
   "source": [
    "ctr=0\n",
    "for ctr in range(20):\n",
    "    ctr +=1\n",
    "    if ctr>10 and ctr<12:\n",
    "        print(\"This is number 11\")\n",
    "        continue\n",
    "        print('hahahah')\n",
    "    if ctr >14 and ctr <16:\n",
    "        print('The number is 15')\n",
    "        continue\n",
    "    print('The numbers is ',ctr)"
   ]
  },
  {
   "cell_type": "markdown",
   "id": "28f1a90b",
   "metadata": {},
   "source": [
    "PASS\n",
    "="
   ]
  },
  {
   "cell_type": "code",
   "execution_count": 48,
   "id": "1a70bfaa",
   "metadata": {},
   "outputs": [
    {
     "name": "stdout",
     "output_type": "stream",
     "text": [
      "1\n",
      "3\n",
      "5\n",
      "7\n",
      "9\n"
     ]
    }
   ],
   "source": [
    "NOM=[1,2,3,4,5,6,7,8,9,10]\n",
    "for fr in NOM:\n",
    "    if fr % 2 ==0:\n",
    "        pass\n",
    "    else:\n",
    "        print(fr)"
   ]
  },
  {
   "cell_type": "markdown",
   "id": "5fa4bd56",
   "metadata": {},
   "source": [
    "FUNCTIONS\n",
    "="
   ]
  },
  {
   "cell_type": "code",
   "execution_count": 49,
   "id": "5bfbd32b",
   "metadata": {},
   "outputs": [
    {
     "data": {
      "text/plain": [
       "'You are welcom'"
      ]
     },
     "execution_count": 49,
     "metadata": {},
     "output_type": "execute_result"
    }
   ],
   "source": [
    "def welcom():\n",
    "    c ='You are welcom'\n",
    "    return c\n",
    "welcom()"
   ]
  },
  {
   "cell_type": "code",
   "execution_count": 50,
   "id": "0da5d4d3",
   "metadata": {},
   "outputs": [
    {
     "data": {
      "text/plain": [
       "<function __main__.welcom()>"
      ]
     },
     "execution_count": 50,
     "metadata": {},
     "output_type": "execute_result"
    }
   ],
   "source": [
    "welcom"
   ]
  },
  {
   "cell_type": "code",
   "execution_count": 51,
   "id": "57566ecf",
   "metadata": {},
   "outputs": [
    {
     "data": {
      "text/plain": [
       "5"
      ]
     },
     "execution_count": 51,
     "metadata": {},
     "output_type": "execute_result"
    }
   ],
   "source": [
    "def cal(a,b):# a and b are called dummy variables.\n",
    "    d=a+b\n",
    "    return d\n",
    "cal(2,3)"
   ]
  },
  {
   "cell_type": "code",
   "execution_count": 52,
   "id": "a01c8efc",
   "metadata": {},
   "outputs": [
    {
     "data": {
      "text/plain": [
       "21"
      ]
     },
     "execution_count": 52,
     "metadata": {},
     "output_type": "execute_result"
    }
   ],
   "source": [
    "cal(9,12)"
   ]
  },
  {
   "cell_type": "code",
   "execution_count": 53,
   "id": "4d216f94",
   "metadata": {},
   "outputs": [
    {
     "data": {
      "text/plain": [
       "2328592858"
      ]
     },
     "execution_count": 53,
     "metadata": {},
     "output_type": "execute_result"
    }
   ],
   "source": [
    "cal(2299299929,29292929)"
   ]
  },
  {
   "cell_type": "code",
   "execution_count": 56,
   "id": "e18e528d",
   "metadata": {},
   "outputs": [
    {
     "data": {
      "text/plain": [
       "'How may I help you?'"
      ]
     },
     "execution_count": 56,
     "metadata": {},
     "output_type": "execute_result"
    }
   ],
   "source": [
    "def eric():\n",
    "    f='How may I help you?'\n",
    "    return f\n",
    "eric()"
   ]
  },
  {
   "cell_type": "code",
   "execution_count": 55,
   "id": "46cef7fd",
   "metadata": {},
   "outputs": [
    {
     "data": {
      "text/plain": [
       "'How may I help you?'"
      ]
     },
     "execution_count": 55,
     "metadata": {},
     "output_type": "execute_result"
    }
   ],
   "source": [
    "eric()"
   ]
  },
  {
   "cell_type": "code",
   "execution_count": 57,
   "id": "f089a1f8",
   "metadata": {},
   "outputs": [],
   "source": [
    "def p(a):\n",
    "    v=a**2 +10\n",
    "    return v\n"
   ]
  },
  {
   "cell_type": "code",
   "execution_count": 58,
   "id": "442a04d9",
   "metadata": {},
   "outputs": [
    {
     "data": {
      "text/plain": [
       "14"
      ]
     },
     "execution_count": 58,
     "metadata": {},
     "output_type": "execute_result"
    }
   ],
   "source": [
    "p(2)"
   ]
  },
  {
   "cell_type": "code",
   "execution_count": 59,
   "id": "3aeea935",
   "metadata": {},
   "outputs": [
    {
     "data": {
      "text/plain": [
       "141107663459"
      ]
     },
     "execution_count": 59,
     "metadata": {},
     "output_type": "execute_result"
    }
   ],
   "source": [
    "p(375643)"
   ]
  },
  {
   "cell_type": "code",
   "execution_count": 60,
   "id": "d4059f4b",
   "metadata": {},
   "outputs": [],
   "source": [
    "def pt(t,p1,p2):\n",
    "    e=p1/p2\n",
    "    s=0.286\n",
    "    ans=t*e**s\n",
    "    return ans"
   ]
  },
  {
   "cell_type": "code",
   "execution_count": 61,
   "id": "0eb5a9e1",
   "metadata": {},
   "outputs": [
    {
     "data": {
      "text/plain": [
       "57.70047959799989"
      ]
     },
     "execution_count": 61,
     "metadata": {},
     "output_type": "execute_result"
    }
   ],
   "source": [
    "pt(76,100,262)"
   ]
  },
  {
   "cell_type": "code",
   "execution_count": 88,
   "id": "6a07ec3f",
   "metadata": {},
   "outputs": [],
   "source": [
    "def dp(t,p0,p1,units):\n",
    "    if units.upper()== 'C' or units.upper()=='CELCIUS':\n",
    "        t=273.15 + t\n",
    "        answer=t*(p0/p1)**0.286\n",
    "        answer=answer-273.15\n",
    "    elif units.upper()=='K' or units.upper()=='KELVIN':\n",
    "        answer=t*(p0/p1)**0.286\n",
    "    return answer\n",
    "        \n",
    "    \n",
    "    \n",
    "    "
   ]
  },
  {
   "cell_type": "code",
   "execution_count": 91,
   "id": "de312bd0",
   "metadata": {},
   "outputs": [
    {
     "data": {
      "text/plain": [
       "3.9958130146735584"
      ]
     },
     "execution_count": 91,
     "metadata": {},
     "output_type": "execute_result"
    }
   ],
   "source": [
    "dp(20.9,100,123,'CELCIUS')"
   ]
  },
  {
   "cell_type": "markdown",
   "id": "59797146",
   "metadata": {},
   "source": [
    "LOOPING WITHIN FUNCTIONS\n",
    "="
   ]
  },
  {
   "cell_type": "code",
   "execution_count": 1,
   "id": "8b476fc3",
   "metadata": {},
   "outputs": [
    {
     "name": "stdout",
     "output_type": "stream",
     "text": [
      "2\n",
      "4\n",
      "6\n",
      "8\n",
      "10\n",
      "12\n",
      "14\n",
      "16\n",
      "18\n",
      "20\n",
      "22\n",
      "24\n",
      "26\n",
      "28\n",
      "30\n",
      "32\n",
      "34\n",
      "36\n",
      "38\n",
      "40\n",
      "42\n",
      "44\n",
      "46\n",
      "48\n"
     ]
    },
    {
     "data": {
      "text/plain": [
       "50"
      ]
     },
     "execution_count": 1,
     "metadata": {},
     "output_type": "execute_result"
    }
   ],
   "source": [
    "def test(x,max_x,x_interval):\n",
    "    while(x<max_x):\n",
    "        print(x)\n",
    "        x+=x_interval\n",
    "    return x\n",
    "\n",
    "\n",
    "#\n",
    "test(2,50,2)"
   ]
  },
  {
   "cell_type": "markdown",
   "id": "69f53cbe",
   "metadata": {},
   "source": [
    "LAMMBDA AS A FUNCTION\n",
    "="
   ]
  },
  {
   "cell_type": "code",
   "execution_count": 93,
   "id": "6ebabb58",
   "metadata": {},
   "outputs": [
    {
     "data": {
      "text/plain": [
       "18.850250842691622"
      ]
     },
     "execution_count": 93,
     "metadata": {},
     "output_type": "execute_result"
    }
   ],
   "source": [
    "SQ=lambda t,p0,p1:t*(p0/p1)**0.286\n",
    "SQ(20,100,123)"
   ]
  },
  {
   "cell_type": "code",
   "execution_count": 6,
   "id": "ec430230",
   "metadata": {},
   "outputs": [],
   "source": [
    "Energy=lambda A,O,T:A*O*T**4 #Where O is Boltzmann's constant, T=temperature in K and A = Surface area in meter sq\n",
    "O=1.38*10**-23"
   ]
  },
  {
   "cell_type": "code",
   "execution_count": 8,
   "id": "7ebbcdb9",
   "metadata": {},
   "outputs": [
    {
     "name": "stdout",
     "output_type": "stream",
     "text": [
      "The total solar engery is  1.5330618281159998e-12 J/K\n"
     ]
    }
   ],
   "source": [
    "w=Energy(20,O,273)\n",
    "print('The total solar engery is ',w,'J/K')"
   ]
  },
  {
   "cell_type": "code",
   "execution_count": 41,
   "id": "7fb84172",
   "metadata": {},
   "outputs": [],
   "source": [
    "EA =lambda a,pi,r,s:(1-a)*pi*r**2*s\n",
    "pi=3.142"
   ]
  },
  {
   "cell_type": "code",
   "execution_count": 48,
   "id": "d7af9804",
   "metadata": {},
   "outputs": [
    {
     "data": {
      "text/plain": [
       "712605599.9999999"
      ]
     },
     "execution_count": 48,
     "metadata": {},
     "output_type": "execute_result"
    }
   ],
   "source": [
    "EA(0.3,pi,300,3600)\n"
   ]
  },
  {
   "cell_type": "code",
   "execution_count": 1,
   "id": "b1fa089a",
   "metadata": {},
   "outputs": [
    {
     "name": "stdout",
     "output_type": "stream",
     "text": [
      "60.0\n",
      "24.0\n",
      "70.0\n",
      "28.0\n"
     ]
    }
   ],
   "source": [
    "B=[12,14]\n",
    "H=[10,4]\n",
    "for n in B:\n",
    "    for m in H:\n",
    "        y=0.5*n*m\n",
    "        print(y)"
   ]
  },
  {
   "cell_type": "code",
   "execution_count": 2,
   "id": "8dcd514f",
   "metadata": {},
   "outputs": [],
   "source": [
    "area=lambda a,b:0.5*a*b\n"
   ]
  },
  {
   "cell_type": "code",
   "execution_count": 5,
   "id": "737ef22c",
   "metadata": {},
   "outputs": [
    {
     "name": "stdout",
     "output_type": "stream",
     "text": [
      "0.5 * 12 * 10 = 60.0\n",
      "0.5 * 12 * 4 = 24.0\n",
      "0.5 * 14 * 10 = 70.0\n",
      "0.5 * 14 * 4 = 28.0\n"
     ]
    }
   ],
   "source": [
    "b=[12,14]\n",
    "h=[10,4]\n",
    "for g in B:\n",
    "    for j in H:\n",
    "        y=area(g,j)\n",
    "        print(0.5,'*',g,'*',j,'=',y)"
   ]
  },
  {
   "cell_type": "code",
   "execution_count": null,
   "id": "9dc53c88",
   "metadata": {},
   "outputs": [],
   "source": []
  },
  {
   "cell_type": "code",
   "execution_count": null,
   "id": "bf3d66a5",
   "metadata": {},
   "outputs": [],
   "source": []
  }
 ],
 "metadata": {
  "kernelspec": {
   "display_name": "Python 3 (ipykernel)",
   "language": "python",
   "name": "python3"
  },
  "language_info": {
   "codemirror_mode": {
    "name": "ipython",
    "version": 3
   },
   "file_extension": ".py",
   "mimetype": "text/x-python",
   "name": "python",
   "nbconvert_exporter": "python",
   "pygments_lexer": "ipython3",
   "version": "3.9.7"
  }
 },
 "nbformat": 4,
 "nbformat_minor": 5
}
