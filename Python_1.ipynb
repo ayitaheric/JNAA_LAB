{
 "cells": [
  {
   "cell_type": "code",
   "execution_count": 1,
   "id": "79ad5495",
   "metadata": {},
   "outputs": [
    {
     "data": {
      "text/plain": [
       "8"
      ]
     },
     "execution_count": 1,
     "metadata": {},
     "output_type": "execute_result"
    }
   ],
   "source": [
    "def clock(n):\n",
    "    b=n**3\n",
    "    return b\n",
    "clock(2)\n",
    "\n",
    "\n"
   ]
  },
  {
   "cell_type": "code",
   "execution_count": 2,
   "id": "2f79b20c",
   "metadata": {},
   "outputs": [
    {
     "data": {
      "text/plain": [
       "27"
      ]
     },
     "execution_count": 2,
     "metadata": {},
     "output_type": "execute_result"
    }
   ],
   "source": [
    "clock(3)"
   ]
  },
  {
   "cell_type": "code",
   "execution_count": 3,
   "id": "005852b0",
   "metadata": {},
   "outputs": [
    {
     "name": "stdout",
     "output_type": "stream",
     "text": [
      "729\n",
      "8\n",
      "27\n",
      "64\n"
     ]
    }
   ],
   "source": [
    "def clock(n):\n",
    "    b=n**3\n",
    "    return b\n",
    "\n",
    "f=[9,2,3,4]\n",
    "for g in f:\n",
    "    d=clock(g)\n",
    "    print(d)\n",
    "    if d<700:\n",
    "        continue\n",
    "        print('well done')\n",
    "    "
   ]
  },
  {
   "cell_type": "code",
   "execution_count": 4,
   "id": "2666f4c1",
   "metadata": {},
   "outputs": [
    {
     "name": "stdout",
     "output_type": "stream",
     "text": [
      "8\n",
      "27\n",
      "64\n",
      "125\n",
      "216\n",
      "474552\n"
     ]
    },
    {
     "data": {
      "text/plain": [
       "216"
      ]
     },
     "execution_count": 4,
     "metadata": {},
     "output_type": "execute_result"
    }
   ],
   "source": [
    "p=[2,3,4,5,6,78,]\n",
    "for m in p:\n",
    "    print(clock(m))\n",
    "\n",
    "clock(6)\n"
   ]
  },
  {
   "cell_type": "code",
   "execution_count": 5,
   "id": "2bc515a0",
   "metadata": {},
   "outputs": [
    {
     "ename": "NameError",
     "evalue": "name 'sun' is not defined",
     "output_type": "error",
     "traceback": [
      "\u001b[0;31m---------------------------------------------------------------------------\u001b[0m",
      "\u001b[0;31mNameError\u001b[0m                                 Traceback (most recent call last)",
      "\u001b[0;32m/tmp/ipykernel_9014/247126525.py\u001b[0m in \u001b[0;36m<module>\u001b[0;34m\u001b[0m\n\u001b[0;32m----> 1\u001b[0;31m \u001b[0msun\u001b[0m\u001b[0;34m(\u001b[0m\u001b[0;36m1\u001b[0m\u001b[0;34m,\u001b[0m\u001b[0;36m2\u001b[0m\u001b[0;34m,\u001b[0m\u001b[0;36m3\u001b[0m\u001b[0;34m)\u001b[0m\u001b[0;34m\u001b[0m\u001b[0;34m\u001b[0m\u001b[0m\n\u001b[0m",
      "\u001b[0;31mNameError\u001b[0m: name 'sun' is not defined"
     ]
    }
   ],
   "source": [
    "sun(1,2,3)"
   ]
  },
  {
   "cell_type": "code",
   "execution_count": null,
   "id": "24a600d2",
   "metadata": {},
   "outputs": [],
   "source": [
    "def sun(a,b,c):\n",
    "    p=a+b**c\n",
    "    return p\n",
    "sun(4,3,2)"
   ]
  },
  {
   "cell_type": "code",
   "execution_count": null,
   "id": "42b5d60c",
   "metadata": {},
   "outputs": [],
   "source": [
    "sun(4,6,7)"
   ]
  },
  {
   "cell_type": "code",
   "execution_count": null,
   "id": "0525dc65",
   "metadata": {},
   "outputs": [],
   "source": [
    "  def fun(a,b):\n",
    "    d= a+b\n",
    "    return d\n",
    "fun([1,2,3,4,5],[6,7,8,9,10])"
   ]
  },
  {
   "cell_type": "code",
   "execution_count": null,
   "id": "642b6c6e",
   "metadata": {},
   "outputs": [],
   "source": [
    "def ty(a,b):\n",
    "    c=a**b\n",
    "    return c\n",
    "x=4\n",
    "y=2\n",
    "ty(x,y)\n",
    " \n",
    "\n",
    "\n",
    "\n",
    "\n",
    "def welcome():\n",
    "    f=\"Hello! world welcome to Quantum One Ghana\"\n",
    "    return f\n",
    "\n",
    "welcome()"
   ]
  },
  {
   "cell_type": "code",
   "execution_count": null,
   "id": "04d2ec04",
   "metadata": {},
   "outputs": [],
   "source": [
    "#Python works with the PEMDAS approach\n",
    "def potential(t,p0,p1,unit):\n",
    "    if unit.upper()=='c' or unit.upper()=='CELCIUS':\n",
    "        t= t+273.15\n",
    "        answer=t*(p0/p1)**0.286\n",
    "        #answer= answer-273.15\n",
    "    elif unit.upper()=='k' or unit.upper()=='KELVIN':\n",
    "         answer=t*(p0/p1)**0.286 \n",
    "    return answer\n"
   ]
  },
  {
   "cell_type": "code",
   "execution_count": null,
   "id": "882ce3d9",
   "metadata": {},
   "outputs": [],
   "source": [
    "potential(28,1000,78,'C')"
   ]
  },
  {
   "cell_type": "code",
   "execution_count": null,
   "id": "0a18cc32",
   "metadata": {},
   "outputs": [],
   "source": [
    "def poten"
   ]
  },
  {
   "cell_type": "code",
   "execution_count": null,
   "id": "b9399c39",
   "metadata": {},
   "outputs": [],
   "source": [
    "def pot(t,p0,p1,unit):\n",
    "    if unit.upper()=='c' or unit.upper()=='CELCIUS':\n",
    "        t= t+273.15\n",
    "        answer=t*(p0/p1)**0.286\n",
    "        #answer= answer-273.15\n",
    "    elif unit.upper()=='k' or unit.upper()=='KELVIN':\n",
    "         answer=t*(p0/p1)**0.286 \n",
    "    return answer\n",
    "pot(2,1000,78,'c')"
   ]
  },
  {
   "cell_type": "code",
   "execution_count": null,
   "id": "d7899914",
   "metadata": {},
   "outputs": [],
   "source": [
    "def temp(t,p0,p1,units):\n",
    "    if units.upper()=='C' or units.upper()=='celcius':\n",
    "        t=t + 273.15\n",
    "        ab = t*(p0/p1)**0.286\n",
    "        ab=ab-273.15\n",
    "    elif units.upper()=='k' or units.upper()=='KELVIN':\n",
    "        ab =t*(p0/p1)**0.286\n",
    "        return ab\n",
    "    \n",
    "\n"
   ]
  },
  {
   "cell_type": "code",
   "execution_count": null,
   "id": "76d082a2",
   "metadata": {},
   "outputs": [],
   "source": [
    "temp(28,1000,750,'C')  "
   ]
  },
  {
   "cell_type": "code",
   "execution_count": null,
   "id": "78610740",
   "metadata": {},
   "outputs": [],
   "source": [
    "sqr =lambda a,b:a**b\n",
    "sqr(7,3)"
   ]
  },
  {
   "cell_type": "code",
   "execution_count": null,
   "id": "20739f93",
   "metadata": {},
   "outputs": [],
   "source": [
    "su=lambda v,c,j:v+c+j\n",
    "v=[1,2,3]\n",
    "c=[4,5,6]\n",
    "j=[7,8,9]\n",
    "su(v,c,j)"
   ]
  },
  {
   "cell_type": "code",
   "execution_count": null,
   "id": "bae2de58",
   "metadata": {},
   "outputs": [],
   "source": [
    "# IMPORTING OF PACKAGES\n",
    "from numpy import sum as s ,mean as m, std as d\n",
    "w=[56,7,89,90]\n",
    "m(w)\n",
    "d(w)"
   ]
  },
  {
   "cell_type": "code",
   "execution_count": 3,
   "id": "28b2ac4a",
   "metadata": {},
   "outputs": [
    {
     "name": "stdout",
     "output_type": "stream",
     "text": [
      "74\n"
     ]
    }
   ],
   "source": [
    "import numpy as np\n",
    "print(np.max([23,-4,70,12,34,54,65,74,22]))"
   ]
  },
  {
   "cell_type": "code",
   "execution_count": null,
   "id": "046af0bf",
   "metadata": {},
   "outputs": [],
   "source": [
    "np.sin(np.rad2deg(3.147))# converting from rad to degree"
   ]
  },
  {
   "cell_type": "code",
   "execution_count": null,
   "id": "40465b71",
   "metadata": {},
   "outputs": [],
   "source": [
    "np.round(3.9876,2)#ronding numbers to a specific decimal place"
   ]
  },
  {
   "cell_type": "code",
   "execution_count": null,
   "id": "a6fd07f6",
   "metadata": {},
   "outputs": [],
   "source": [
    "np.abs(-999)# this is absolute"
   ]
  },
  {
   "cell_type": "code",
   "execution_count": null,
   "id": "767611b9",
   "metadata": {},
   "outputs": [],
   "source": [
    "np.min([-21,23,4,5,6,7,8,19991]) #this print the minimum value"
   ]
  },
  {
   "cell_type": "code",
   "execution_count": null,
   "id": "12c199a5",
   "metadata": {},
   "outputs": [],
   "source": [
    "np.max([19,23,4,55,77,8,6,8,665,8]) #this print the maxmum number"
   ]
  },
  {
   "cell_type": "code",
   "execution_count": null,
   "id": "76f24fd1",
   "metadata": {},
   "outputs": [],
   "source": [
    "np.sort([1,0,-2,83,-2,45,0,5,3,2,56,-47])# this arrange the values in ascending order"
   ]
  },
  {
   "cell_type": "code",
   "execution_count": null,
   "id": "c4be9b1c",
   "metadata": {},
   "outputs": [],
   "source": [
    "np.max(np.abs([29,-1,0,37,99,-397,-353]))"
   ]
  },
  {
   "cell_type": "code",
   "execution_count": null,
   "id": "c03fc565",
   "metadata": {},
   "outputs": [],
   "source": [
    "np.argmax(np.abs([-4,99,-100,46,56,76,44,33,23]))# this print the position of the maximum value"
   ]
  },
  {
   "cell_type": "code",
   "execution_count": null,
   "id": "f6fae0b3",
   "metadata": {},
   "outputs": [],
   "source": [
    "np.arange(0,5,2) # this a range of numbers"
   ]
  },
  {
   "cell_type": "code",
   "execution_count": null,
   "id": "5c01c0ab",
   "metadata": {},
   "outputs": [],
   "source": [
    "b=[[1,2,7],[1,9,8],[12,9,8]]# the shape of the array(matrix)\n",
    "np.shape(b)"
   ]
  },
  {
   "cell_type": "code",
   "execution_count": null,
   "id": "0283e011",
   "metadata": {},
   "outputs": [],
   "source": [
    "np.transpose(b)# writing in a matrix form"
   ]
  },
  {
   "cell_type": "code",
   "execution_count": null,
   "id": "ec2bed92",
   "metadata": {},
   "outputs": [],
   "source": [
    "b1=np.asarray(b)# changing  from list to an array\n",
    "b1.T"
   ]
  },
  {
   "cell_type": "code",
   "execution_count": null,
   "id": "e83c5878",
   "metadata": {},
   "outputs": [],
   "source": [
    "np.random.random(16)# this will produce 16 random numbers"
   ]
  },
  {
   "cell_type": "code",
   "execution_count": null,
   "id": "9287f122",
   "metadata": {},
   "outputs": [],
   "source": [
    " np.random.rand(10)"
   ]
  },
  {
   "cell_type": "code",
   "execution_count": null,
   "id": "d2e63172",
   "metadata": {},
   "outputs": [],
   "source": [
    "np.random.randn(8)#both negative and positive numbers"
   ]
  },
  {
   "cell_type": "code",
   "execution_count": null,
   "id": "15150d6f",
   "metadata": {},
   "outputs": [],
   "source": [
    "np.random.randint(low=-9, high=4,size =20)# generating only integers excluding the highest no"
   ]
  },
  {
   "cell_type": "code",
   "execution_count": null,
   "id": "093780df",
   "metadata": {},
   "outputs": [],
   "source": [
    "import scipy as sp\n",
    "s=[99,23,4,55,65,74,22,-29,10,-16]\n",
    "sp.sum(s)"
   ]
  },
  {
   "cell_type": "code",
   "execution_count": null,
   "id": "aec3d75d",
   "metadata": {},
   "outputs": [],
   "source": [
    "from warnings import filterwarnings\n",
    "filterwarnings('ignore')"
   ]
  },
  {
   "cell_type": "code",
   "execution_count": null,
   "id": "43215474",
   "metadata": {},
   "outputs": [],
   "source": [
    "sp.round_(sp.cos(s),3)#there is underscore bcs of the s is a list"
   ]
  },
  {
   "cell_type": "code",
   "execution_count": 7,
   "id": "bcbabc1e",
   "metadata": {},
   "outputs": [],
   "source": [
    "import matplotlib as mlt"
   ]
  },
  {
   "cell_type": "code",
   "execution_count": 6,
   "id": "fa51aeb1",
   "metadata": {},
   "outputs": [],
   "source": [
    "from matplotlib import pyplot as py"
   ]
  },
  {
   "cell_type": "code",
   "execution_count": 9,
   "id": "f279fd05",
   "metadata": {},
   "outputs": [
    {
     "data": {
      "text/plain": [
       "<matplotlib.legend.Legend at 0x7fbeea271eb0>"
      ]
     },
     "execution_count": 9,
     "metadata": {},
     "output_type": "execute_result"
    },
    {
     "data": {
      "image/png": "[encoded data removed]",
      "text/plain": [
       "<Figure size 432x288 with 1 Axes>"
      ]
     },
     "metadata": {
      "needs_background": "light"
     },
     "output_type": "display_data"
    }
   ],
   "source": [
    "n=np.random.rand(50)\n",
    "l=np.random.rand(30)\n",
    "py.plot(n,label='c')\n",
    "py.plot(l, label='d')\n",
    "py.xlabel('Random numbers')\n",
    "py.ylabel('temperature')\n",
    "py.title('TRIAL WORK',size=25)\n",
    "py.legend(loc=\"upper left\")\n",
    "#py.xlim(-2,10)\n",
    "#py.ylim(-2,10)"
   ]
  },
  {
   "cell_type": "code",
   "execution_count": 10,
   "id": "4b50c113",
   "metadata": {},
   "outputs": [
    {
     "data": {
      "text/plain": [
       "Text(0.5, 1.0, 'Getting perfect')"
      ]
     },
     "execution_count": 10,
     "metadata": {},
     "output_type": "execute_result"
    },
    {
     "data": {
      "image/png": "[encoded data removed]",
      "text/plain": [
       "<Figure size 432x288 with 1 Axes>"
      ]
     },
     "metadata": {
      "needs_background": "light"
     },
     "output_type": "display_data"
    }
   ],
   "source": [
    "v=np.arange(0,20)\n",
    "c=np.cos(v)\n",
    "py.plot(v,color='black',label='Omega')\n",
    "py.plot(c,color='indigo',label='Alpha')\n",
    "py.xlabel('Range of numbers')\n",
    "py.ylabel('cos of range')\n",
    "py.legend(loc=2)\n",
    "py.title('Getting perfect')"
   ]
  },
  {
   "cell_type": "code",
   "execution_count": 11,
   "id": "8eed1bc6",
   "metadata": {},
   "outputs": [
    {
     "data": {
      "text/plain": [
       "Text(0.5, 1.0, 'Straight line plot')"
      ]
     },
     "execution_count": 11,
     "metadata": {},
     "output_type": "execute_result"
    },
    {
     "data": {
      "image/png": "[encoded data removed]",
      "text/plain": [
       "<Figure size 432x288 with 1 Axes>"
      ]
     },
     "metadata": {
      "needs_background": "light"
     },
     "output_type": "display_data"
    }
   ],
   "source": [
    "f=[1,3,5,7,9,11,13,15,17,19,21]\n",
    "j=[-2,-4,-6,-8,-10,-12,-14,-16,-18,-20,-22]\n",
    "py.plot(f,color='g',label='Old N')\n",
    "py.plot(j,color='y',label='Even N')\n",
    "py.legend(loc=2)\n",
    "py.title('Straight line plot')"
   ]
  },
  {
   "cell_type": "code",
   "execution_count": 20,
   "id": "d702b311",
   "metadata": {},
   "outputs": [
    {
     "data": {
      "image/png": "[encoded data removed]",
      "text/plain": [
       "<Figure size 432x288 with 1 Axes>"
      ]
     },
     "metadata": {
      "needs_background": "light"
     },
     "output_type": "display_data"
    },
    {
     "data": {
      "text/plain": [
       "<Figure size 432x288 with 0 Axes>"
      ]
     },
     "metadata": {},
     "output_type": "display_data"
    }
   ],
   "source": [
    "e=np.arange(0,360)\n",
    "g=np.sin(np.deg2rad(e))\n",
    "k=np.cos(np.deg2rad(e))\n",
    "py.plot(e,g,color='r',label='sin')\n",
    "py.plot(e,k,color='orange',label='cos')\n",
    "py.title('Sin and Cos Curves',size=15)\n",
    "py.ylim(-1,1)\n",
    "py.legend()\n",
    "py.xlabel('Angles')\n",
    "py.ylabel('Trig Values')\n",
    "py.xlim(0,360)\n",
    "py.show()\n",
    "py.savefig('fig.png')"
   ]
  },
  {
   "cell_type": "code",
   "execution_count": 16,
   "id": "7fb98053",
   "metadata": {},
   "outputs": [],
   "source": [
    "#%matplotlib inline"
   ]
  },
  {
   "cell_type": "code",
   "execution_count": 33,
   "id": "291db8a1-ed46-46fb-92e0-d1f6e0b80bf0",
   "metadata": {},
   "outputs": [],
   "source": [
    "a1=np.asarray([4,8,6])\n",
    "a1\n",
    "\n",
    "n=[6,7,8,9]\n",
    "m=np.asarray(n)\n",
    "m\n",
    "np.savetxt(\"a__value.txt\",m,fmt='%3.2f')\n",
    "#np.array([a_value.txt])\n",
    "np.savetxt(\"valu.csv\",m,fmt=\"%2.1f\",delimiter=',')"
   ]
  },
  {
   "cell_type": "code",
   "execution_count": 39,
   "id": "78347fe0",
   "metadata": {},
   "outputs": [
    {
     "name": "stdout",
     "output_type": "stream",
     "text": [
      "[6. 7. 8. 9.]\n"
     ]
    }
   ],
   "source": [
    "ab=np.loadtxt(\"valu.csv\",delimiter=\" \")\n",
    "print(ab)"
   ]
  },
  {
   "cell_type": "code",
   "execution_count": 49,
   "id": "091c73f3",
   "metadata": {},
   "outputs": [
    {
     "name": "stdout",
     "output_type": "stream",
     "text": [
      "[6. 7. 8. 9.]\n"
     ]
    },
    {
     "data": {
      "text/plain": [
       "Text(0.5, 0, 'wow')"
      ]
     },
     "execution_count": 49,
     "metadata": {},
     "output_type": "execute_result"
    },
    {
     "data": {
      "image/png": "[encoded data removed]",
      "text/plain": [
       "<Figure size 432x288 with 1 Axes>"
      ]
     },
     "metadata": {
      "needs_background": "light"
     },
     "output_type": "display_data"
    }
   ],
   "source": [
    "cp=np.genfromtxt(\"a__value.txt\",delimiter=\"\")\n",
    "print(cp)\n",
    "py.plot(cp,color='k')\n",
    "py.xlabel('wow')"
   ]
  },
  {
   "cell_type": "code",
   "execution_count": 4,
   "id": "93273d3b",
   "metadata": {},
   "outputs": [
    {
     "name": "stdout",
     "output_type": "stream",
     "text": [
      "[[ 1.  2.  3.]\n",
      " [ 4.  5.  6.]\n",
      " [ 8.  9. 10.]]\n"
     ]
    }
   ],
   "source": [
    "w=[\n",
    "    [1,2,3],\n",
    "    [4,5,6],\n",
    "    [8,9,10]\n",
    "      ]\n",
    "ad=np.savetxt('values.txt',w)\n",
    "fp=np.savetxt('val.csv',w,delimiter=',')\n",
    "\n",
    "l=np.loadtxt('val.csv',delimiter=',')\n",
    "print(l)"
   ]
  },
  {
   "cell_type": "code",
   "execution_count": 7,
   "id": "4ece0f28",
   "metadata": {},
   "outputs": [
    {
     "name": "stdout",
     "output_type": "stream",
     "text": [
      "[[ 1.  2.  3.]\n",
      " [ 4.  5.  6.]\n",
      " [ 8.  9. 10.]]\n"
     ]
    },
    {
     "data": {
      "text/plain": [
       "[<matplotlib.lines.Line2D at 0x7f721e879040>,\n",
       " <matplotlib.lines.Line2D at 0x7f721e879070>,\n",
       " <matplotlib.lines.Line2D at 0x7f721e879190>]"
      ]
     },
     "execution_count": 7,
     "metadata": {},
     "output_type": "execute_result"
    },
    {
     "data": {
      "image/png": "[encoded data removed]",
      "text/plain": [
       "<Figure size 432x288 with 1 Axes>"
      ]
     },
     "metadata": {
      "needs_background": "light"
     },
     "output_type": "display_data"
    }
   ],
   "source": [
    "mp=np.genfromtxt('values.txt',delimiter=',')\n",
    "print(l)\n",
    "py.plot(l)"
   ]
  },
  {
   "cell_type": "code",
   "execution_count": null,
   "id": "c59d3d63",
   "metadata": {},
   "outputs": [],
   "source": []
  }
 ],
 "metadata": {
  "kernelspec": {
   "display_name": "Python 3 (ipykernel)",
   "language": "python",
   "name": "python3"
  },
  "language_info": {
   "codemirror_mode": {
    "name": "ipython",
    "version": 3
   },
   "file_extension": ".py",
   "mimetype": "text/x-python",
   "name": "python",
   "nbconvert_exporter": "python",
   "pygments_lexer": "ipython3",
   "version": "3.9.7"
  }
 },
 "nbformat": 4,
 "nbformat_minor": 5
}
