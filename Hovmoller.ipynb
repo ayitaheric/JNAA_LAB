{
 "cells": [
  {
   "cell_type": "code",
   "execution_count": 1,
   "id": "e7fd5ac8",
   "metadata": {},
   "outputs": [
    {
     "ename": "ModuleNotFoundError",
     "evalue": "No module named 'metpy'",
     "output_type": "error",
     "traceback": [
      "\u001b[0;31m---------------------------------------------------------------------------\u001b[0m",
      "\u001b[0;31mModuleNotFoundError\u001b[0m                       Traceback (most recent call last)",
      "\u001b[0;32m/tmp/ipykernel_18206/2529563450.py\u001b[0m in \u001b[0;36m<module>\u001b[0;34m\u001b[0m\n\u001b[1;32m      3\u001b[0m \u001b[0;32mimport\u001b[0m \u001b[0mmatplotlib\u001b[0m\u001b[0;34m.\u001b[0m\u001b[0mgridspec\u001b[0m \u001b[0;32mas\u001b[0m \u001b[0mgridspec\u001b[0m\u001b[0;34m\u001b[0m\u001b[0;34m\u001b[0m\u001b[0m\n\u001b[1;32m      4\u001b[0m \u001b[0;32mimport\u001b[0m \u001b[0mmatplotlib\u001b[0m\u001b[0;34m.\u001b[0m\u001b[0mpyplot\u001b[0m \u001b[0;32mas\u001b[0m \u001b[0mplt\u001b[0m\u001b[0;34m\u001b[0m\u001b[0;34m\u001b[0m\u001b[0m\n\u001b[0;32m----> 5\u001b[0;31m \u001b[0;32mimport\u001b[0m \u001b[0mmetpy\u001b[0m\u001b[0;34m.\u001b[0m\u001b[0mcalc\u001b[0m \u001b[0;32mas\u001b[0m \u001b[0mmpcalc\u001b[0m\u001b[0;34m\u001b[0m\u001b[0;34m\u001b[0m\u001b[0m\n\u001b[0m\u001b[1;32m      6\u001b[0m \u001b[0;32mimport\u001b[0m \u001b[0mnumpy\u001b[0m \u001b[0;32mas\u001b[0m \u001b[0mnp\u001b[0m\u001b[0;34m\u001b[0m\u001b[0;34m\u001b[0m\u001b[0m\n\u001b[1;32m      7\u001b[0m \u001b[0;32mimport\u001b[0m \u001b[0mxarray\u001b[0m \u001b[0;32mas\u001b[0m \u001b[0mxr\u001b[0m\u001b[0;34m\u001b[0m\u001b[0;34m\u001b[0m\u001b[0m\n",
      "\u001b[0;31mModuleNotFoundError\u001b[0m: No module named 'metpy'"
     ]
    }
   ],
   "source": [
    "import cartopy.crs as ccrs\n",
    "import cartopy.feature as cfeature\n",
    "import matplotlib.gridspec as gridspec\n",
    "import matplotlib.pyplot as plt\n",
    "import metpy.calc as mpcalc\n",
    "import numpy as np\n",
    "import xarray as xr\n"
   ]
  },
  {
   "cell_type": "code",
   "execution_count": 3,
   "id": "fc00c065",
   "metadata": {},
   "outputs": [],
   "source": [
    "# pip install metpy"
   ]
  },
  {
   "cell_type": "code",
   "execution_count": null,
   "id": "2b8bf311",
   "metadata": {},
   "outputs": [],
   "source": [
    "# Start figure\n",
    "fig = plt.figure(figsize=(10, 13))\n",
    "\n",
    "# Use gridspec to help size elements of plot; small top plot and big bottom plot\n",
    "gs = gridspec.GridSpec(nrows=2, ncols=1, height_ratios=[1, 6], hspace=0.03)\n",
    "\n",
    "# Tick labels\n",
    "x_tick_labels = [u'0\\N{DEGREE SIGN}E', u'90\\N{DEGREE SIGN}E',\n",
    "                 u'180\\N{DEGREE SIGN}E', u'90\\N{DEGREE SIGN}W',\n",
    "                 u'0\\N{DEGREE SIGN}E']\n",
    "\n",
    "# Top plot for geographic reference (makes small map)\n",
    "ax1 = fig.add_subplot(gs[0, 0], projection=ccrs.PlateCarree(central_longitude=180))\n",
    "ax1.set_extent([0, 357.5, 35, 65], ccrs.PlateCarree(central_longitude=180))\n",
    "ax1.set_yticks([40, 60])\n",
    "ax1.set_yticklabels([u'40\\N{DEGREE SIGN}N', u'60\\N{DEGREE SIGN}N'])\n",
    "ax1.set_xticks([-180, -90, 0, 90, 180])\n",
    "ax1.set_xticklabels(x_tick_labels)\n",
    "ax1.grid(linestyle='dotted', linewidth=2)\n",
    "\n",
    "# Add geopolitical boundaries for map reference\n",
    "ax1.add_feature(cfeature.COASTLINE.with_scale('50m'))\n",
    "ax1.add_feature(cfeature.LAKES.with_scale('50m'), color='black', linewidths=0.5)\n",
    "\n",
    "# Set some titles\n",
    "plt.title('Hovmoller Diagram', loc='left')\n",
    "plt.title('NCEP/NCAR Reanalysis', loc='right')\n",
    "\n",
    "# Bottom plot for Hovmoller diagram\n",
    "ax2 = fig.add_subplot(gs[1, 0])\n",
    "ax2.invert_yaxis()  # Reverse the time order to do oldest first\n",
    "\n",
    "# Plot of chosen variable averaged over latitude and slightly smoothed\n",
    "clevs = np.arange(-50, 51, 5)\n",
    "cf = ax2.contourf(lons, vtimes, mpcalc.smooth_n_point(\n",
    "    avg_data, 9, 2), clevs, cmap=plt.cm.bwr, extend='both')\n",
    "cs = ax2.contour(lons, vtimes, mpcalc.smooth_n_point(\n",
    "    avg_data, 9, 2), clevs, colors='k', linewidths=1)\n",
    "cbar = plt.colorbar(cf, orientation='horizontal', pad=0.04, aspect=50, extendrect=True)\n",
    "cbar.set_label('m $s^{-1}$')\n",
    "\n",
    "# Make some ticks and tick labels\n",
    "ax2.set_xticks([0, 90, 180, 270, 357.5])\n",
    "ax2.set_xticklabels(x_tick_labels)\n",
    "ax2.set_yticks(vtimes[4::8])\n",
    "ax2.set_yticklabels(vtimes[4::8])\n",
    "\n",
    "# Set some titles\n",
    "plt.title('250-hPa V-wind', loc='left', fontsize=10)\n",
    "plt.title('Time Range: {0:%Y%m%d %HZ} - {1:%Y%m%d %HZ}'.format(vtimes[0], vtimes[-1]),\n",
    "          loc='right', fontsize=10)\n",
    "\n",
    "plt.show()"
   ]
  }
 ],
 "metadata": {
  "kernelspec": {
   "display_name": "Python 3 (ipykernel)",
   "language": "python",
   "name": "python3"
  },
  "language_info": {
   "codemirror_mode": {
    "name": "ipython",
    "version": 3
   },
   "file_extension": ".py",
   "mimetype": "text/x-python",
   "name": "python",
   "nbconvert_exporter": "python",
   "pygments_lexer": "ipython3",
   "version": "3.9.7"
  }
 },
 "nbformat": 4,
 "nbformat_minor": 5
}
