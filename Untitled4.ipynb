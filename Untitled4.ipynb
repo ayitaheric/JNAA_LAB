{
 "cells": [
  {
   "cell_type": "markdown",
   "id": "883203a3",
   "metadata": {},
   "source": [
    "DAY1"
   ]
  },
  {
   "cell_type": "markdown",
   "id": "afde79c8",
   "metadata": {},
   "source": [
    " COMMENTS AND HEADING \n",
    " =\n",
    " Learning how to comment our codes\n"
   ]
  },
  {
   "cell_type": "code",
   "execution_count": 15,
   "id": "5ae93d91",
   "metadata": {},
   "outputs": [
    {
     "data": {
      "text/plain": [
       "6"
      ]
     },
     "execution_count": 15,
     "metadata": {},
     "output_type": "execute_result"
    }
   ],
   "source": [
    "4+2"
   ]
  },
  {
   "cell_type": "code",
   "execution_count": 16,
   "id": "973844bc",
   "metadata": {},
   "outputs": [
    {
     "name": "stdout",
     "output_type": "stream",
     "text": [
      "ERIC\n"
     ]
    }
   ],
   "source": [
    "print('ERIC')"
   ]
  },
  {
   "cell_type": "code",
   "execution_count": 17,
   "id": "f482dc68",
   "metadata": {},
   "outputs": [
    {
     "name": "stdout",
     "output_type": "stream",
     "text": [
      "Jannat\n"
     ]
    }
   ],
   "source": [
    "print('Jannat')"
   ]
  },
  {
   "cell_type": "code",
   "execution_count": null,
   "id": "9364531c",
   "metadata": {},
   "outputs": [],
   "source": []
  },
  {
   "cell_type": "code",
   "execution_count": 20,
   "id": "e3ab9de7",
   "metadata": {},
   "outputs": [],
   "source": [
    "#Right"
   ]
  },
  {
   "cell_type": "code",
   "execution_count": 21,
   "id": "f5b7979e",
   "metadata": {},
   "outputs": [
    {
     "data": {
      "text/plain": [
       "'Jannat is determined'"
      ]
     },
     "execution_count": 21,
     "metadata": {},
     "output_type": "execute_result"
    }
   ],
   "source": [
    "'''Jannat is determined''' # we use the triple code to extract multiple lines"
   ]
  },
  {
   "cell_type": "code",
   "execution_count": 22,
   "id": "c2469902",
   "metadata": {},
   "outputs": [
    {
     "data": {
      "text/plain": [
       "6"
      ]
     },
     "execution_count": 22,
     "metadata": {},
     "output_type": "execute_result"
    }
   ],
   "source": [
    "2*3 #'''6+3'''"
   ]
  },
  {
   "cell_type": "code",
   "execution_count": null,
   "id": "86a45659",
   "metadata": {},
   "outputs": [],
   "source": []
  },
  {
   "cell_type": "markdown",
   "id": "0c4f4760",
   "metadata": {},
   "source": [
    "DATA TYPES\n",
    "=\n"
   ]
  },
  {
   "cell_type": "code",
   "execution_count": 23,
   "id": "bbf13bb6",
   "metadata": {},
   "outputs": [
    {
     "data": {
      "text/plain": [
       "int"
      ]
     },
     "execution_count": 23,
     "metadata": {},
     "output_type": "execute_result"
    }
   ],
   "source": [
    "type(10)"
   ]
  },
  {
   "cell_type": "code",
   "execution_count": 24,
   "id": "11d3446f",
   "metadata": {},
   "outputs": [
    {
     "data": {
      "text/plain": [
       "float"
      ]
     },
     "execution_count": 24,
     "metadata": {},
     "output_type": "execute_result"
    }
   ],
   "source": [
    "type(15.72)"
   ]
  },
  {
   "cell_type": "code",
   "execution_count": 25,
   "id": "1b20223b",
   "metadata": {},
   "outputs": [
    {
     "data": {
      "text/plain": [
       "str"
      ]
     },
     "execution_count": 25,
     "metadata": {},
     "output_type": "execute_result"
    }
   ],
   "source": [
    "type('Eric and Jannat') #every text should be ina quoted mark"
   ]
  },
  {
   "cell_type": "code",
   "execution_count": 26,
   "id": "93f9f7d4",
   "metadata": {},
   "outputs": [
    {
     "data": {
      "text/plain": [
       "list"
      ]
     },
     "execution_count": 26,
     "metadata": {},
     "output_type": "execute_result"
    }
   ],
   "source": [
    "type([1,2,3,4,5,6,7,8])"
   ]
  },
  {
   "cell_type": "code",
   "execution_count": 27,
   "id": "312de6ba",
   "metadata": {},
   "outputs": [
    {
     "data": {
      "text/plain": [
       "set"
      ]
     },
     "execution_count": 27,
     "metadata": {},
     "output_type": "execute_result"
    }
   ],
   "source": [
    "type({2,3,4,5})"
   ]
  },
  {
   "cell_type": "code",
   "execution_count": 30,
   "id": "b2f2f6eb",
   "metadata": {},
   "outputs": [
    {
     "data": {
      "text/plain": [
       "tuple"
      ]
     },
     "execution_count": 30,
     "metadata": {},
     "output_type": "execute_result"
    }
   ],
   "source": [
    "type((2,3,4,5,6))"
   ]
  },
  {
   "cell_type": "markdown",
   "id": "31d623e8",
   "metadata": {},
   "source": [
    "Variable Assignment\n",
    "=\n",
    "Python is case sensitive"
   ]
  },
  {
   "cell_type": "code",
   "execution_count": 31,
   "id": "9a6183be",
   "metadata": {},
   "outputs": [],
   "source": [
    "J=21"
   ]
  },
  {
   "cell_type": "code",
   "execution_count": 32,
   "id": "6ef8f13c",
   "metadata": {},
   "outputs": [],
   "source": [
    "E=25"
   ]
  },
  {
   "cell_type": "code",
   "execution_count": 33,
   "id": "ccaa5dde",
   "metadata": {},
   "outputs": [],
   "source": [
    "zz=J+E"
   ]
  },
  {
   "cell_type": "code",
   "execution_count": 34,
   "id": "eb4ac4fe",
   "metadata": {},
   "outputs": [
    {
     "data": {
      "text/plain": [
       "46"
      ]
     },
     "execution_count": 34,
     "metadata": {},
     "output_type": "execute_result"
    }
   ],
   "source": [
    "zz"
   ]
  },
  {
   "cell_type": "code",
   "execution_count": 35,
   "id": "39a402f5",
   "metadata": {},
   "outputs": [],
   "source": [
    "a=70\n"
   ]
  },
  {
   "cell_type": "code",
   "execution_count": 36,
   "id": "04cd95a8",
   "metadata": {},
   "outputs": [],
   "source": [
    "x=30\n"
   ]
  },
  {
   "cell_type": "code",
   "execution_count": 37,
   "id": "a192db9a",
   "metadata": {},
   "outputs": [
    {
     "data": {
      "text/plain": [
       "10000"
      ]
     },
     "execution_count": 37,
     "metadata": {},
     "output_type": "execute_result"
    }
   ],
   "source": [
    "k=(a+x)**2\n",
    "k"
   ]
  },
  {
   "cell_type": "code",
   "execution_count": 38,
   "id": "b571cd34",
   "metadata": {},
   "outputs": [
    {
     "data": {
      "text/plain": [
       "8"
      ]
     },
     "execution_count": 38,
     "metadata": {},
     "output_type": "execute_result"
    }
   ],
   "source": [
    "s=3\n",
    "d=5\n",
    "w=s+d\n",
    "w"
   ]
  },
  {
   "cell_type": "code",
   "execution_count": 49,
   "id": "0959622a",
   "metadata": {},
   "outputs": [
    {
     "data": {
      "text/plain": [
       "10000"
      ]
     },
     "execution_count": 49,
     "metadata": {},
     "output_type": "execute_result"
    }
   ],
   "source": [
    "k"
   ]
  },
  {
   "cell_type": "code",
   "execution_count": 50,
   "id": "f780e331",
   "metadata": {},
   "outputs": [
    {
     "data": {
      "text/plain": [
       "10000"
      ]
     },
     "execution_count": 50,
     "metadata": {},
     "output_type": "execute_result"
    }
   ],
   "source": [
    "k"
   ]
  },
  {
   "cell_type": "code",
   "execution_count": 39,
   "id": "85a3c884",
   "metadata": {},
   "outputs": [
    {
     "data": {
      "text/plain": [
       "7"
      ]
     },
     "execution_count": 39,
     "metadata": {},
     "output_type": "execute_result"
    }
   ],
   "source": [
    "s=5\n",
    "d=2\n",
    "w=s+d\n",
    "w"
   ]
  },
  {
   "cell_type": "markdown",
   "id": "93864116",
   "metadata": {},
   "source": [
    "XHSHHSHSHH"
   ]
  },
  {
   "cell_type": "code",
   "execution_count": 40,
   "id": "81bfee6f",
   "metadata": {},
   "outputs": [
    {
     "name": "stdout",
     "output_type": "stream",
     "text": [
      "My name is Janna \n",
      "I am from Kasoa\n"
     ]
    }
   ],
   "source": [
    "print('My name is Janna \\nI am from Kasoa')"
   ]
  },
  {
   "cell_type": "code",
   "execution_count": null,
   "id": "686352ce",
   "metadata": {},
   "outputs": [],
   "source": []
  },
  {
   "cell_type": "code",
   "execution_count": null,
   "id": "35116de2",
   "metadata": {},
   "outputs": [],
   "source": []
  },
  {
   "cell_type": "code",
   "execution_count": 43,
   "id": "a2e24a18",
   "metadata": {},
   "outputs": [
    {
     "name": "stdout",
     "output_type": "stream",
     "text": [
      "Question 1 is A \n",
      "Question 2 is B \n",
      "Question 3 is C\n"
     ]
    }
   ],
   "source": [
    "print(\"Question 1 is A \\nQuestion 2 is B \\nQuestion 3 is C\")"
   ]
  },
  {
   "cell_type": "code",
   "execution_count": 46,
   "id": "d9e10d3e",
   "metadata": {},
   "outputs": [
    {
     "name": "stdout",
     "output_type": "stream",
     "text": [
      "My name is Eric and my coworker is Jannat. \n",
      "We come from Kasoa, the great City of all times\n"
     ]
    }
   ],
   "source": [
    "print('My name is Eric and my coworker is Jannat. \\nWe come from Kasoa, the great City of all times')"
   ]
  },
  {
   "cell_type": "code",
   "execution_count": 51,
   "id": "ffda62c2",
   "metadata": {},
   "outputs": [
    {
     "name": "stdout",
     "output_type": "stream",
     "text": [
      "70 , 5 , 7 , , 21 , 25 , 46 , 10000\n"
     ]
    }
   ],
   "source": [
    "print(a,',',s,',',w,',',',',J,',',E,',',zz,',',k)\n"
   ]
  },
  {
   "cell_type": "code",
   "execution_count": 55,
   "id": "f5ae8e0e",
   "metadata": {},
   "outputs": [],
   "source": [
    "Course =\"Meteorology and Climate Science.\"\n"
   ]
  },
  {
   "cell_type": "code",
   "execution_count": 56,
   "id": "2a37a298",
   "metadata": {},
   "outputs": [
    {
     "data": {
      "text/plain": [
       "32"
      ]
     },
     "execution_count": 56,
     "metadata": {},
     "output_type": "execute_result"
    }
   ],
   "source": [
    "len(Course)#Python starts indexing from 0"
   ]
  },
  {
   "cell_type": "code",
   "execution_count": 70,
   "id": "933a720e",
   "metadata": {},
   "outputs": [
    {
     "data": {
      "text/plain": [
       "'Met'"
      ]
     },
     "execution_count": 70,
     "metadata": {},
     "output_type": "execute_result"
    }
   ],
   "source": [
    "Course[0:3]#subsetting a range."
   ]
  },
  {
   "cell_type": "code",
   "execution_count": 71,
   "id": "3fdc271f",
   "metadata": {},
   "outputs": [
    {
     "data": {
      "text/plain": [
       "'oooyadCiaeSine'"
      ]
     },
     "execution_count": 71,
     "metadata": {},
     "output_type": "execute_result"
    }
   ],
   "source": [
    "Course[4::2]#it'll start from "
   ]
  },
  {
   "cell_type": "code",
   "execution_count": 73,
   "id": "016b1a7b",
   "metadata": {},
   "outputs": [
    {
     "data": {
      "text/plain": [
       "'ERIC'"
      ]
     },
     "execution_count": 73,
     "metadata": {},
     "output_type": "execute_result"
    }
   ],
   "source": [
    "m=\"E\"+\"R\"+\"I\"+\"C\"\n",
    "m"
   ]
  },
  {
   "cell_type": "code",
   "execution_count": 74,
   "id": "51c68ec8",
   "metadata": {},
   "outputs": [
    {
     "name": "stdout",
     "output_type": "stream",
     "text": [
      "E I\n"
     ]
    }
   ],
   "source": [
    "print(m[0],m[2])"
   ]
  },
  {
   "cell_type": "code",
   "execution_count": 85,
   "id": "e0aa96fd",
   "metadata": {},
   "outputs": [
    {
     "data": {
      "text/plain": [
       "'eric'"
      ]
     },
     "execution_count": 85,
     "metadata": {},
     "output_type": "execute_result"
    }
   ],
   "source": [
    "m.lower()\n"
   ]
  },
  {
   "cell_type": "code",
   "execution_count": 82,
   "id": "292ab084",
   "metadata": {},
   "outputs": [],
   "source": [
    "v='dorkutso'"
   ]
  },
  {
   "cell_type": "code",
   "execution_count": 86,
   "id": "26cf2899",
   "metadata": {},
   "outputs": [
    {
     "data": {
      "text/plain": [
       "'DORKUTSO'"
      ]
     },
     "execution_count": 86,
     "metadata": {},
     "output_type": "execute_result"
    }
   ],
   "source": [
    "v.upper()"
   ]
  },
  {
   "cell_type": "code",
   "execution_count": null,
   "id": "851cc955",
   "metadata": {},
   "outputs": [],
   "source": []
  },
  {
   "cell_type": "code",
   "execution_count": null,
   "id": "4806b0a6",
   "metadata": {},
   "outputs": [],
   "source": []
  },
  {
   "cell_type": "code",
   "execution_count": 92,
   "id": "43f98cb4",
   "metadata": {},
   "outputs": [
    {
     "name": "stdout",
     "output_type": "stream",
     "text": [
      "When upon life below you are tempest tossed \n",
      "When you are discourage thinking all is gone \n",
      "Count your many blessings\n"
     ]
    }
   ],
   "source": [
    "print('When upon life below you are tempest tossed \\nWhen you are discourage thinking all is gone \\nCount your many blessings')"
   ]
  },
  {
   "cell_type": "markdown",
   "id": "f32a1cf9",
   "metadata": {},
   "source": [
    "CONCATENATION\n",
    "=\n",
    "How to join words, numbers etc. together"
   ]
  },
  {
   "cell_type": "code",
   "execution_count": 99,
   "id": "4daaa7dd",
   "metadata": {},
   "outputs": [
    {
     "name": "stdout",
     "output_type": "stream",
     "text": [
      "Meteorology and Climate Science \n"
     ]
    }
   ],
   "source": [
    "a='Meteorology '\n",
    "b='and '\n",
    "c='Climate '\n",
    "d='Science '\n",
    "print(a+b+c+d)"
   ]
  },
  {
   "cell_type": "code",
   "execution_count": null,
   "id": "03880165",
   "metadata": {},
   "outputs": [],
   "source": [
    "a='Meteorology '\n",
    "b='and '\n",
    "c='Climate '\n",
    "d='Science '\n",
    "print(a+b+c,'',d)"
   ]
  },
  {
   "cell_type": "code",
   "execution_count": 105,
   "id": "29f53145",
   "metadata": {},
   "outputs": [
    {
     "name": "stdout",
     "output_type": "stream",
     "text": [
      "VOTE FOR RHODA 2023 \n",
      "VOTE FOR RHODA 2023 \n",
      "VOTE FOR RHODA 2023 \n",
      "VOTE FOR RHODA 2023 \n",
      "VOTE FOR RHODA 2023 \n",
      "VOTE FOR RHODA 2023 \n",
      "VOTE FOR RHODA 2023 \n",
      "VOTE FOR RHODA 2023 \n",
      "VOTE FOR RHODA 2023 \n",
      "VOTE FOR RHODA 2023 \n",
      "VOTE FOR RHODA 2023 \n",
      "VOTE FOR RHODA 2023 \n",
      "VOTE FOR RHODA 2023 \n",
      "VOTE FOR RHODA 2023 \n",
      "VOTE FOR RHODA 2023 \n",
      "VOTE FOR RHODA 2023 \n",
      "VOTE FOR RHODA 2023 \n",
      "VOTE FOR RHODA 2023 \n",
      "VOTE FOR RHODA 2023 \n",
      "VOTE FOR RHODA 2023 \n",
      "VOTE FOR RHODA 2023 \n",
      "\n"
     ]
    }
   ],
   "source": [
    "print('VOTE FOR RHODA 2023 \\n'*21)"
   ]
  },
  {
   "cell_type": "markdown",
   "id": "d8289248",
   "metadata": {},
   "source": [
    "FORMATING OF STRING\n",
    "="
   ]
  },
  {
   "cell_type": "code",
   "execution_count": 128,
   "id": "b2915ec3",
   "metadata": {},
   "outputs": [],
   "source": [
    "q='Jannat said the economy is hard'"
   ]
  },
  {
   "cell_type": "code",
   "execution_count": 129,
   "id": "ab4ffdf3",
   "metadata": {},
   "outputs": [
    {
     "data": {
      "text/plain": [
       "'jannat said the economy is hard'"
      ]
     },
     "execution_count": 129,
     "metadata": {},
     "output_type": "execute_result"
    }
   ],
   "source": [
    "b=q.lower()\n",
    "b"
   ]
  },
  {
   "cell_type": "code",
   "execution_count": 130,
   "id": "767ada6a",
   "metadata": {},
   "outputs": [],
   "source": [
    "c=b.upper()"
   ]
  },
  {
   "cell_type": "code",
   "execution_count": 131,
   "id": "dd386fd4",
   "metadata": {},
   "outputs": [
    {
     "data": {
      "text/plain": [
       "'JANNAT SAID THE ECONOMY IS HARD'"
      ]
     },
     "execution_count": 131,
     "metadata": {},
     "output_type": "execute_result"
    }
   ],
   "source": [
    "c"
   ]
  },
  {
   "cell_type": "code",
   "execution_count": 132,
   "id": "d1e8b054",
   "metadata": {},
   "outputs": [
    {
     "data": {
      "text/plain": [
       "'jannat said the economy is hard'"
      ]
     },
     "execution_count": 132,
     "metadata": {},
     "output_type": "execute_result"
    }
   ],
   "source": [
    "b.capitalize()\n",
    "\n",
    "b"
   ]
  },
  {
   "cell_type": "code",
   "execution_count": 133,
   "id": "51aee2fb",
   "metadata": {},
   "outputs": [
    {
     "data": {
      "text/plain": [
       "['Jannat', 'said', 'the', 'economy', 'is', 'hard']"
      ]
     },
     "execution_count": 133,
     "metadata": {},
     "output_type": "execute_result"
    }
   ],
   "source": [
    "q.split()"
   ]
  },
  {
   "cell_type": "code",
   "execution_count": 135,
   "id": "22e8b8f9",
   "metadata": {},
   "outputs": [
    {
     "data": {
      "text/plain": [
       "'Eric said the economy is hard'"
      ]
     },
     "execution_count": 135,
     "metadata": {},
     "output_type": "execute_result"
    }
   ],
   "source": [
    "q.replace('Jannat', 'Eric')"
   ]
  },
  {
   "cell_type": "code",
   "execution_count": 136,
   "id": "979d2241",
   "metadata": {},
   "outputs": [
    {
     "data": {
      "text/plain": [
       "'Eric says the economy is hard'"
      ]
     },
     "execution_count": 136,
     "metadata": {},
     "output_type": "execute_result"
    }
   ],
   "source": [
    "q.replace('Jannat said','Eric says')"
   ]
  },
  {
   "cell_type": "code",
   "execution_count": 139,
   "id": "a2206834",
   "metadata": {},
   "outputs": [],
   "source": [
    "first='Welcome to the {year} {prog} organized by {organizers}'.format(year=2022, prog='Internship', organizers='Dep')"
   ]
  },
  {
   "cell_type": "code",
   "execution_count": 140,
   "id": "1171e5f9",
   "metadata": {},
   "outputs": [
    {
     "data": {
      "text/plain": [
       "'Welcome to the 2022 Internship organized by Dep'"
      ]
     },
     "execution_count": 140,
     "metadata": {},
     "output_type": "execute_result"
    }
   ],
   "source": [
    "first"
   ]
  },
  {
   "cell_type": "code",
   "execution_count": 147,
   "id": "ebf1f55c",
   "metadata": {},
   "outputs": [],
   "source": [
    "Second='Welcome to the {} {} organized by {}'.format(2022,'Internship','Dep')"
   ]
  },
  {
   "cell_type": "code",
   "execution_count": 148,
   "id": "3ad9cf0e",
   "metadata": {},
   "outputs": [
    {
     "data": {
      "text/plain": [
       "'Welcome to the 2022 Internship organized by Dep'"
      ]
     },
     "execution_count": 148,
     "metadata": {},
     "output_type": "execute_result"
    }
   ],
   "source": [
    "Second"
   ]
  },
  {
   "cell_type": "code",
   "execution_count": 152,
   "id": "c359f55b",
   "metadata": {},
   "outputs": [
    {
     "data": {
      "text/plain": [
       "2"
      ]
     },
     "execution_count": 152,
     "metadata": {},
     "output_type": "execute_result"
    }
   ],
   "source": [
    "7//3 #floor (which gives the whole number of a decimal number)"
   ]
  },
  {
   "cell_type": "code",
   "execution_count": 153,
   "id": "12e33ef2",
   "metadata": {},
   "outputs": [
    {
     "data": {
      "text/plain": [
       "2"
      ]
     },
     "execution_count": 153,
     "metadata": {},
     "output_type": "execute_result"
    }
   ],
   "source": [
    "6%4 #Modulus: This gives the remainder"
   ]
  },
  {
   "cell_type": "code",
   "execution_count": 154,
   "id": "8a84e46f",
   "metadata": {},
   "outputs": [
    {
     "data": {
      "text/plain": [
       "False"
      ]
     },
     "execution_count": 154,
     "metadata": {},
     "output_type": "execute_result"
    }
   ],
   "source": [
    "2>75"
   ]
  },
  {
   "cell_type": "code",
   "execution_count": 158,
   "id": "a45bf17d",
   "metadata": {},
   "outputs": [
    {
     "data": {
      "text/plain": [
       "bool"
      ]
     },
     "execution_count": 158,
     "metadata": {},
     "output_type": "execute_result"
    }
   ],
   "source": [
    "type(11.2 == 11.22)"
   ]
  },
  {
   "cell_type": "code",
   "execution_count": 159,
   "id": "07ea84a1",
   "metadata": {},
   "outputs": [],
   "source": [
    "f=['Jannat','Eric']"
   ]
  },
  {
   "cell_type": "code",
   "execution_count": 164,
   "id": "eaab5462",
   "metadata": {},
   "outputs": [],
   "source": [
    "l=f.append('Desmond')"
   ]
  },
  {
   "cell_type": "code",
   "execution_count": null,
   "id": "8246afe6",
   "metadata": {},
   "outputs": [],
   "source": [
    "#fROZENSET\n"
   ]
  },
  {
   "cell_type": "markdown",
   "id": "f149f127",
   "metadata": {},
   "source": [
    "DICTIONARY\n",
    "="
   ]
  },
  {
   "cell_type": "code",
   "execution_count": 180,
   "id": "5c984b87",
   "metadata": {},
   "outputs": [],
   "source": [
    "a={\n",
    "    'Name':'Eric ',\n",
    "    'Number':'0555971863',\n",
    "    'Age': '17',\n",
    "    'Sex':'Male',\n",
    "    'Wife':'Jannat'\n",
    "}"
   ]
  },
  {
   "cell_type": "code",
   "execution_count": 181,
   "id": "f3789f54",
   "metadata": {},
   "outputs": [
    {
     "data": {
      "text/plain": [
       "{'Name': 'Eric ',\n",
       " 'Number': '0555971863',\n",
       " 'Age': '17',\n",
       " 'Sex': 'Male',\n",
       " 'Wife': 'Jannat'}"
      ]
     },
     "execution_count": 181,
     "metadata": {},
     "output_type": "execute_result"
    }
   ],
   "source": [
    "a"
   ]
  },
  {
   "cell_type": "code",
   "execution_count": 182,
   "id": "b952f1a7",
   "metadata": {},
   "outputs": [
    {
     "data": {
      "text/plain": [
       "True"
      ]
     },
     "execution_count": 182,
     "metadata": {},
     "output_type": "execute_result"
    }
   ],
   "source": [
    "9!=3"
   ]
  },
  {
   "cell_type": "code",
   "execution_count": 183,
   "id": "4cfe57e5",
   "metadata": {},
   "outputs": [
    {
     "data": {
      "text/plain": [
       "True"
      ]
     },
     "execution_count": 183,
     "metadata": {},
     "output_type": "execute_result"
    }
   ],
   "source": [
    "2<=20"
   ]
  },
  {
   "cell_type": "code",
   "execution_count": 184,
   "id": "4267b7cf",
   "metadata": {},
   "outputs": [
    {
     "data": {
      "text/plain": [
       "False"
      ]
     },
     "execution_count": 184,
     "metadata": {},
     "output_type": "execute_result"
    }
   ],
   "source": [
    "2>=9"
   ]
  },
  {
   "cell_type": "code",
   "execution_count": 185,
   "id": "9e0b6bda",
   "metadata": {},
   "outputs": [
    {
     "data": {
      "text/plain": [
       "True"
      ]
     },
     "execution_count": 185,
     "metadata": {},
     "output_type": "execute_result"
    }
   ],
   "source": [
    "(6%4)==2"
   ]
  },
  {
   "cell_type": "markdown",
   "id": "51b6e246",
   "metadata": {},
   "source": [
    "LOGICAL OPERATIONS\n",
    "="
   ]
  },
  {
   "cell_type": "code",
   "execution_count": 187,
   "id": "15732a89",
   "metadata": {},
   "outputs": [
    {
     "data": {
      "text/plain": [
       "False"
      ]
     },
     "execution_count": 187,
     "metadata": {},
     "output_type": "execute_result"
    }
   ],
   "source": [
    "(5<2)&(5>3)#This works when both statements are true\n",
    "#OR\n",
    "#NOT"
   ]
  },
  {
   "cell_type": "markdown",
   "id": "b96e4e15",
   "metadata": {},
   "source": [
    "ONE WAY DECISON\n",
    "="
   ]
  },
  {
   "cell_type": "code",
   "execution_count": 188,
   "id": "0fbcefe2",
   "metadata": {},
   "outputs": [],
   "source": [
    "x=5"
   ]
  },
  {
   "cell_type": "code",
   "execution_count": 193,
   "id": "99263e4e",
   "metadata": {},
   "outputs": [
    {
     "name": "stdout",
     "output_type": "stream",
     "text": [
      "x equals 5\n"
     ]
    }
   ],
   "source": [
    "if x==5:\n",
    "    print('x equals 5')\n"
   ]
  },
  {
   "cell_type": "code",
   "execution_count": 194,
   "id": "ba1f696c",
   "metadata": {},
   "outputs": [
    {
     "name": "stdout",
     "output_type": "stream",
     "text": [
      "x is greater than four\n"
     ]
    }
   ],
   "source": [
    "if x>4:\n",
    "    print('x is greater than four')"
   ]
  },
  {
   "cell_type": "code",
   "execution_count": 195,
   "id": "afdb3b6f",
   "metadata": {},
   "outputs": [
    {
     "name": "stdout",
     "output_type": "stream",
     "text": [
      "Desmond is tired\n"
     ]
    }
   ],
   "source": [
    "if x!=6:\n",
    "    print('Desmond is tired')"
   ]
  },
  {
   "cell_type": "markdown",
   "id": "61e3a7a3",
   "metadata": {},
   "source": [
    "Two Way Decisions\n",
    "="
   ]
  },
  {
   "cell_type": "code",
   "execution_count": 199,
   "id": "dd793d9e",
   "metadata": {},
   "outputs": [
    {
     "name": "stdout",
     "output_type": "stream",
     "text": [
      "Your age: 21\n"
     ]
    },
    {
     "data": {
      "text/plain": [
       "'21'"
      ]
     },
     "execution_count": 199,
     "metadata": {},
     "output_type": "execute_result"
    }
   ],
   "source": [
    "input('Your age: ')"
   ]
  },
  {
   "cell_type": "code",
   "execution_count": 203,
   "id": "08c1a604",
   "metadata": {},
   "outputs": [
    {
     "name": "stdout",
     "output_type": "stream",
     "text": [
      "Please enter your fulname Jannat\n",
      "You are my partner\n"
     ]
    }
   ],
   "source": [
    "name= input('Please enter your fulname ')\n",
    "if name=='Jannat':\n",
    "    print('You are my partner')\n",
    "else:\n",
    "    print('Please look for your partner')"
   ]
  },
  {
   "cell_type": "code",
   "execution_count": 210,
   "id": "4a27dcbc",
   "metadata": {},
   "outputs": [
    {
     "name": "stdout",
     "output_type": "stream",
     "text": [
      "Please,place your order Wakye\n",
      "\n",
      "Oohs! sorry we have only jolof currently\n"
     ]
    }
   ],
   "source": [
    "menu = input('Please,place your order ')\n",
    "print('')\n",
    "if menu == 'Jolof':\n",
    "    print(\"It'll be delivered soon please\")\n",
    "else:\n",
    "    print('Oohs! sorry we have only jolof currently.')"
   ]
  },
  {
   "cell_type": "markdown",
   "id": "418fd73a",
   "metadata": {},
   "source": [
    "A NESTED IF STATEMENTS\n",
    "="
   ]
  },
  {
   "cell_type": "code",
   "execution_count": 220,
   "id": "074d8bfb",
   "metadata": {},
   "outputs": [
    {
     "name": "stdout",
     "output_type": "stream",
     "text": [
      "Enter your grade 80\n",
      "\n",
      "\tStudent scored a passing grade\n"
     ]
    }
   ],
   "source": [
    "grade= int(input('Enter your grade '))#100\n",
    "print('')\n",
    "if grade>60:\n",
    "    print('\\tStudent scored a passing grade')\n",
    "    if grade >=90:\n",
    "        print('\\tPassed with A')\n",
    "        if grade >=96:\n",
    "            print('\\tPassed with A+')\n",
    "    "
   ]
  },
  {
   "cell_type": "code",
   "execution_count": 229,
   "id": "a47ba842",
   "metadata": {},
   "outputs": [
    {
     "name": "stdout",
     "output_type": "stream",
     "text": [
      "Please enter your grade 28\n",
      "\n",
      "You have failed, come for your school fees\n"
     ]
    }
   ],
   "source": [
    "grade =int(input('Please enter your grade '))\n",
    "print('')\n",
    "if grade >=70 and grade <=100:\n",
    "    print('A')\n",
    "elif grade >=60 and grade <=69:\n",
    "    print('B')\n",
    "elif grade >=50 and grade <=59:\n",
    "    print('C')\n",
    "elif grade>=40 and grade <=49:\n",
    "    print('D')\n",
    "else:\n",
    "    print('You have failed, come for your school fees')"
   ]
  },
  {
   "cell_type": "code",
   "execution_count": null,
   "id": "8e760423",
   "metadata": {},
   "outputs": [],
   "source": []
  }
 ],
 "metadata": {
  "kernelspec": {
   "display_name": "Python 3 (ipykernel)",
   "language": "python",
   "name": "python3"
  },
  "language_info": {
   "codemirror_mode": {
    "name": "ipython",
    "version": 3
   },
   "file_extension": ".py",
   "mimetype": "text/x-python",
   "name": "python",
   "nbconvert_exporter": "python",
   "pygments_lexer": "ipython3",
   "version": "3.9.7"
  }
 },
 "nbformat": 4,
 "nbformat_minor": 5
}
