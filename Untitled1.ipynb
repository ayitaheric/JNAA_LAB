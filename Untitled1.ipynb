{
 "cells": [
  {
   "cell_type": "code",
   "execution_count": 1,
   "id": "b4c737af",
   "metadata": {},
   "outputs": [
    {
     "name": "stdout",
     "output_type": "stream",
     "text": [
      "\n"
     ]
    }
   ],
   "source": [
    "print()"
   ]
  },
  {
   "cell_type": "code",
   "execution_count": 2,
   "id": "71c89532",
   "metadata": {},
   "outputs": [
    {
     "name": "stdout",
     "output_type": "stream",
     "text": [
      "🥰\n"
     ]
    }
   ],
   "source": [
    "print('\\U0001F970')"
   ]
  },
  {
   "cell_type": "code",
   "execution_count": 3,
   "id": "7bece16d",
   "metadata": {},
   "outputs": [
    {
     "name": "stdout",
     "output_type": "stream",
     "text": [
      "🥱\n"
     ]
    }
   ],
   "source": [
    "print('\\U0001F971')"
   ]
  },
  {
   "cell_type": "code",
   "execution_count": 4,
   "id": "58dba925",
   "metadata": {
    "scrolled": false
   },
   "outputs": [
    {
     "ename": "SyntaxError",
     "evalue": "(unicode error) 'unicodeescape' codec can't decode bytes in position 0-7: truncated \\UXXXXXXXX escape (1145150950.py, line 1)",
     "output_type": "error",
     "traceback": [
      "\u001b[0;36m  File \u001b[0;32m\"/tmp/ipykernel_15649/1145150950.py\"\u001b[0;36m, line \u001b[0;32m1\u001b[0m\n\u001b[0;31m    print('\\U0001F9')\u001b[0m\n\u001b[0m                    ^\u001b[0m\n\u001b[0;31mSyntaxError\u001b[0m\u001b[0;31m:\u001b[0m (unicode error) 'unicodeescape' codec can't decode bytes in position 0-7: truncated \\UXXXXXXXX escape\n"
     ]
    }
   ],
   "source": [
    "print('\\U0001F9')"
   ]
  },
  {
   "cell_type": "code",
   "execution_count": null,
   "id": "34687cfe",
   "metadata": {},
   "outputs": [],
   "source": [
    "print('\\U0001F90')"
   ]
  },
  {
   "cell_type": "code",
   "execution_count": null,
   "id": "6a1a35bd",
   "metadata": {},
   "outputs": [],
   "source": [
    "print('\\U0001F979')"
   ]
  },
  {
   "cell_type": "code",
   "execution_count": null,
   "id": "fca0f50c",
   "metadata": {},
   "outputs": [],
   "source": [
    "print('\\U0001F990')"
   ]
  },
  {
   "cell_type": "code",
   "execution_count": null,
   "id": "c6dc63f2",
   "metadata": {},
   "outputs": [],
   "source": [
    "print('\\U0001F956')"
   ]
  },
  {
   "cell_type": "code",
   "execution_count": null,
   "id": "9a623f08",
   "metadata": {},
   "outputs": [],
   "source": [
    "M=[2,3,4,5,6,7,8,9]\n",
    "print(max(M))\n",
    "\n",
    "MAX=M[0]\n",
    "for n in M:\n",
    "    if n > MAX:\n",
    "        MAX=n\n",
    "print(MAX)\n",
    "\n",
    "\n",
    "\n",
    "for k in M:\n",
    "    print(k)\n",
    "    \n",
    "    \n",
    "print(f\"2*1=\",(2*1))\n",
    "    "
   ]
  },
  {
   "cell_type": "code",
   "execution_count": null,
   "id": "8c85be0a",
   "metadata": {},
   "outputs": [],
   "source": [
    "i=5\n",
    "while i >=3 and i <=10:\n",
    "    i+=1\n",
    "    print(i)\n",
    "    "
   ]
  },
  {
   "cell_type": "code",
   "execution_count": null,
   "id": "9a5827c7",
   "metadata": {},
   "outputs": [],
   "source": [
    "d=1\n",
    "while d<9:\n",
    "    d+=1\n",
    "    print(\"d is \",d)\n",
    "    \n",
    "else:\n",
    "    print(\"d is greater than 9\")"
   ]
  },
  {
   "cell_type": "code",
   "execution_count": null,
   "id": "f24dd303",
   "metadata": {},
   "outputs": [],
   "source": [
    "c=11\n",
    "while c>10 and c< 71:\n",
    "    f=((9*c)/5)+32\n",
    "    c+=10\n",
    "    print(\"Degree = {0} to Fahrenheit ={1}\".format(c,f))\n",
    "else :\n",
    "    print(\"out of the range\")"
   ]
  },
  {
   "cell_type": "code",
   "execution_count": null,
   "id": "9a2fc116",
   "metadata": {},
   "outputs": [],
   "source": [
    "nam=int(input(\"Please enter any positive integer number\"))\n",
    "\n",
    "n=2\n",
    "print(\"rime numbers between 1 and }\".format(nam))\n",
    "while n < nam:\n",
    "    m =2\n",
    "    count=0\n",
    "    while m<=n//2:     #the floor division and this will produce an integer\n",
    "        if n%m==0:\n",
    "            count+=1\n",
    "        m+=1\n",
    "    print(n) if count==0 else''\n",
    "    n+=1\n",
    "    \n",
    "    \n",
    "        "
   ]
  },
  {
   "cell_type": "code",
   "execution_count": null,
   "id": "0cd9caba",
   "metadata": {},
   "outputs": [],
   "source": [
    "for x in range(1,4,1):\n",
    "    for y in range(1,4,1):\n",
    "        print(x,y)"
   ]
  },
  {
   "cell_type": "code",
   "execution_count": null,
   "id": "5efd819d",
   "metadata": {},
   "outputs": [],
   "source": [
    "squence=[1,'yes','kofi',1,2,3,4,'ERIC']\n",
    "for item in squence:\n",
    "    print(item)\n",
    "\n",
    "    \n"
   ]
  },
  {
   "cell_type": "code",
   "execution_count": null,
   "id": "ce7b530b",
   "metadata": {},
   "outputs": [],
   "source": [
    "for index,seq in enumerate(squence): #this prints the items and their index\n",
    "    print(index,seq)"
   ]
  },
  {
   "cell_type": "code",
   "execution_count": null,
   "id": "729ed5cd",
   "metadata": {},
   "outputs": [],
   "source": [
    "A=[1,2,3,4,5,6,7,8,9]\n",
    "\n",
    "B=[9]\n",
    "for a in A:\n",
    "    for b in B:\n",
    "        x=(a*b)/3\n",
    "        print(a,\"*\",b,\"=\",x)\n",
    "\n",
    "        \n",
    "M=[1,2]\n",
    "N=[4,5]\n",
    "O=[7,8]\n",
    "for m in M:\n",
    "    for n in N:\n",
    "        for o in O:\n",
    "            c=m+n+o\n",
    "            print(m,\"+\",n,\"+\",o,\"=\",c)\n",
    "#NB: positioning any of the actions within the loop will determine what the result will be"
   ]
  },
  {
   "cell_type": "code",
   "execution_count": null,
   "id": "f825579d",
   "metadata": {},
   "outputs": [],
   "source": [
    "i=0\n",
    "while i>=0:\n",
    "    print(i)\n",
    "    if i > 10:\n",
    "        break\n",
    "    i+=1"
   ]
  },
  {
   "cell_type": "code",
   "execution_count": null,
   "id": "9ed4cfe0",
   "metadata": {},
   "outputs": [],
   "source": []
  },
  {
   "cell_type": "code",
   "execution_count": null,
   "id": "4d38e48e",
   "metadata": {},
   "outputs": [],
   "source": []
  },
  {
   "cell_type": "code",
   "execution_count": null,
   "id": "b20e0973",
   "metadata": {},
   "outputs": [],
   "source": []
  },
  {
   "cell_type": "code",
   "execution_count": 6,
   "id": "70bb35eb",
   "metadata": {},
   "outputs": [
    {
     "name": "stdout",
     "output_type": "stream",
     "text": [
      "Please enter a whole number6\n",
      "Prime numbers between 1 and6\n",
      "2\n",
      "3\n",
      "4\n",
      "5\n",
      "number is 1\n",
      "number is 2\n",
      "number is 3\n",
      "number is 4\n",
      "number is 5\n",
      "5 is skipped\n",
      "number is 7\n",
      "number is 8\n",
      "The number is old 3\n",
      "The number is old 5\n",
      "The number is old 7\n",
      "The number is old 9\n",
      "The number is old 7\n",
      "Please enters your favourite food? rice\n",
      "we don't find it rice\n",
      "Please enters your favourite food? banku\n",
      "we don't find it banku\n",
      "Please enters your favourite food? wakye\n",
      "banku\n",
      "Please enters your favourite food?  none\n",
      "we don't find it  none\n",
      "Please enters your favourite food? 'none'\n",
      "we don't find it 'none'\n",
      "Please enters your favourite food? none\n"
     ]
    }
   ],
   "source": [
    "n=2\n",
    "value =int(input('Please enter a whole number'))\n",
    "print(\"Prime numbers between 1 and\"+str(value))\n",
    "while n<=value:\n",
    "    m=2\n",
    "    count =0\n",
    "    while m <n//2:\n",
    "        if n%m==0:\n",
    "            count+=1\n",
    "            break\n",
    "        m+=1\n",
    "    print(n) if count==0 else ''\n",
    "    n +=1    \n",
    "    \n",
    "    \n",
    "ctr =0\n",
    "for ctr in range(8):\n",
    "    ctr +=1\n",
    "    if ctr ==6:\n",
    "        print('5 is skipped')\n",
    "        continue\n",
    "        \n",
    "    print('number is '+str(ctr))\n",
    "    \n",
    "\n",
    "    \n",
    "gg=[12,22,3,4,5,6,7,8,9,8,7,6,4]\n",
    "\n",
    "for nm in gg:\n",
    "    if nm % 2!=1:\n",
    "        pass\n",
    "    else:\n",
    "        print(\"The number is old\",nm)\n",
    "\n",
    "best_choice={'Salad': 'beans','wakye':'banku','yam':'rice'}\n",
    "\n",
    "while True:\n",
    "    menu=input(\"Please enters your favourite food? \")\n",
    "    if menu == 'none':\n",
    "        break\n",
    "        print()\n",
    "    if menu in best_choice:\n",
    "        food = best_choice.get(menu)\n",
    "        print(food)\n",
    "    else:\n",
    "        print(\"we don't find it \"+menu)"
   ]
  },
  {
   "cell_type": "code",
   "execution_count": null,
   "id": "d8fde98a",
   "metadata": {},
   "outputs": [],
   "source": []
  },
  {
   "cell_type": "code",
   "execution_count": null,
   "id": "2183c658",
   "metadata": {},
   "outputs": [],
   "source": []
  }
 ],
 "metadata": {
  "kernelspec": {
   "display_name": "Python 3 (ipykernel)",
   "language": "python",
   "name": "python3"
  },
  "language_info": {
   "codemirror_mode": {
    "name": "ipython",
    "version": 3
   },
   "file_extension": ".py",
   "mimetype": "text/x-python",
   "name": "python",
   "nbconvert_exporter": "python",
   "pygments_lexer": "ipython3",
   "version": "3.9.7"
  }
 },
 "nbformat": 4,
 "nbformat_minor": 5
}
