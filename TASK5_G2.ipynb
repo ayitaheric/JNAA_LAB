{
 "cells": [
  {
   "cell_type": "code",
   "execution_count": 7,
   "id": "7a69bdd9",
   "metadata": {},
   "outputs": [],
   "source": [
    "import numpy as np\n",
    "from numpy import log as ln"
   ]
  },
  {
   "cell_type": "markdown",
   "id": "1609fa63",
   "metadata": {},
   "source": [
    "TASK 5\n",
    "="
   ]
  },
  {
   "cell_type": "markdown",
   "id": "69cbecbb",
   "metadata": {},
   "source": [
    "Creating  a function to accept temperature and Rh values to execute the below eequations\n",
    "=\n"
   ]
  },
  {
   "cell_type": "markdown",
   "id": "2fb9fc02",
   "metadata": {},
   "source": [
    "- T' = 273.3K\n",
    "- e_o = 6.11hPa (SVP at $0^oC)$ \n",
    "- A = 17.27\n",
    "\n",
    "- L = Latent Heat of Vaporisation = 2.45 $\\times 10^6 JKg^-1.$\n",
    "- R_v = gas constant for water = 461 $J Kg^-1 K^-1$\n",
    "- RH = Relative Humidty in percentage "
   ]
  },
  {
   "cell_type": "markdown",
   "id": "0917d7f1",
   "metadata": {},
   "source": [
    "$$ e_s = e_o exp (\\frac{AT}{T+T'})$$  "
   ]
  },
  {
   "cell_type": "markdown",
   "id": "5b42bff9",
   "metadata": {},
   "source": [
    "$$\\frac {de_s}{dT} = {\\Delta} = \\frac{Le_s}{Rv (T + 273.16)^2}$$"
   ]
  },
  {
   "cell_type": "markdown",
   "id": "2ce36bbe",
   "metadata": {},
   "source": [
    "$$e = e_s\\frac {RH} {100}$$"
   ]
  },
  {
   "cell_type": "markdown",
   "id": "0997b0ac",
   "metadata": {},
   "source": [
    "$$T_d =\\frac{T'ln\\frac{e}{e_o}}{A-ln\\frac{e}{e_o}} $$"
   ]
  },
  {
   "cell_type": "code",
   "execution_count": 24,
   "id": "27b637dc",
   "metadata": {},
   "outputs": [],
   "source": [
    "t = 273.3\n",
    "A = 17.27\n",
    "e_o = 6.11\n",
    "L=2.45*10**6\n",
    "R_v = 461\n",
    "#The first value is for the temperature\n",
    "def sat(T,units):\n",
    "    if units.upper()== 'C' or units.upper()=='CELCIUS':        #this converts the temp. from degree celcius to Kelvin\n",
    "        T=273.15 + T\n",
    "        e_s=e_o*(np.exp((A*T)/(T+t)))\n",
    "        de=(L*e_s)/R_v*(T+273.16)**2\n",
    "        RH=float(input('RH = '))\n",
    "        e=e_s*(RH/100)\n",
    "        Td=(t*ln(e/e_o))/(A-ln(e/e_o))\n",
    "        Td=Td-273.15\n",
    "    elif units.upper()=='K' or units.upper()=='KELVIN':\n",
    "        e_s=e_o*(np.exp((A*T)/(T+t)))\n",
    "        de=(L*e_s)/R_v*(T+273.16)**2\n",
    "        RH=float(input('RH = '))\n",
    "        e=e_s*(RH/100)# e is the vapor pressure\n",
    "        Td=(t*ln(e/e_o))/(A-ln(e/e_o))                      #Td is the dewpoint temperature\n",
    "        Td=Td-273.15\n",
    "    return Td\n",
    "     \n"
   ]
  },
  {
   "cell_type": "code",
   "execution_count": null,
   "id": "9f9898e9",
   "metadata": {},
   "outputs": [],
   "source": []
  },
  {
   "cell_type": "code",
   "execution_count": 29,
   "id": "e2a788bf",
   "metadata": {},
   "outputs": [
    {
     "data": {
      "text/plain": [
       "150.00000000000003"
      ]
     },
     "execution_count": 29,
     "metadata": {},
     "output_type": "execute_result"
    }
   ],
   "source": []
  },
  {
   "cell_type": "code",
   "execution_count": null,
   "id": "ed29fbe1",
   "metadata": {},
   "outputs": [],
   "source": []
  }
 ],
 "metadata": {
  "kernelspec": {
   "display_name": "Python 3 (ipykernel)",
   "language": "python",
   "name": "python3"
  },
  "language_info": {
   "codemirror_mode": {
    "name": "ipython",
    "version": 3
   },
   "file_extension": ".py",
   "mimetype": "text/x-python",
   "name": "python",
   "nbconvert_exporter": "python",
   "pygments_lexer": "ipython3",
   "version": "3.9.7"
  }
 },
 "nbformat": 4,
 "nbformat_minor": 5
}
