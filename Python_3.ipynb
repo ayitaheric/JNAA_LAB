{
 "cells": [
  {
   "cell_type": "code",
   "execution_count": 1,
   "id": "c8efa3dd",
   "metadata": {},
   "outputs": [
    {
     "name": "stdout",
     "output_type": "stream",
     "text": [
      "2\n"
     ]
    }
   ],
   "source": [
    "print(2)"
   ]
  },
  {
   "cell_type": "code",
   "execution_count": 2,
   "id": "4cc394be",
   "metadata": {},
   "outputs": [
    {
     "name": "stdout",
     "output_type": "stream",
     "text": [
      "\n",
      "\n"
     ]
    }
   ],
   "source": [
    "print('\\n')"
   ]
  },
  {
   "cell_type": "code",
   "execution_count": 3,
   "id": "b8b35b26",
   "metadata": {},
   "outputs": [
    {
     "name": "stdout",
     "output_type": "stream",
     "text": [
      "AGE:55\n",
      "out of the category\n"
     ]
    }
   ],
   "source": [
    "man =int(input(\"AGE:\"))\n",
    "if man >= 59:\n",
    "    print(\"You are close to pension\")\n",
    "elif man < 20:\n",
    "    print(\"You're too young\")\n",
    "else:\n",
    "    print(\"out of the category\")"
   ]
  },
  {
   "cell_type": "code",
   "execution_count": null,
   "id": "85b3a576",
   "metadata": {},
   "outputs": [],
   "source": []
  },
  {
   "cell_type": "code",
   "execution_count": null,
   "id": "7d33bc36",
   "metadata": {},
   "outputs": [],
   "source": []
  },
  {
   "cell_type": "code",
   "execution_count": 4,
   "id": "9dad87e3",
   "metadata": {
    "scrolled": true
   },
   "outputs": [
    {
     "name": "stdout",
     "output_type": "stream",
     "text": [
      "AGE:42\n",
      "You are close to pension\n"
     ]
    }
   ],
   "source": [
    "man =int(input(\"AGE:\"))\n",
    "if man <= 59:\n",
    "    print(\"You are close to pension\")\n",
    "elif man < 20:\n",
    "    print(\"You're too young\")\n",
    "else:\n",
    "    print(\"out of the category\")"
   ]
  },
  {
   "cell_type": "code",
   "execution_count": 5,
   "id": "4b38cd20",
   "metadata": {},
   "outputs": [
    {
     "name": "stdout",
     "output_type": "stream",
     "text": [
      "Enter your age65\n"
     ]
    },
    {
     "data": {
      "text/plain": [
       "'65'"
      ]
     },
     "execution_count": 5,
     "metadata": {},
     "output_type": "execute_result"
    }
   ],
   "source": [
    "input(\"Enter your age\")"
   ]
  },
  {
   "cell_type": "code",
   "execution_count": 6,
   "id": "d96b743f",
   "metadata": {},
   "outputs": [
    {
     "data": {
      "text/plain": [
       "True"
      ]
     },
     "execution_count": 6,
     "metadata": {},
     "output_type": "execute_result"
    }
   ],
   "source": [
    "\n",
    "k=([1,2,3,4,5,6])\n",
    "type(k)\n",
    "\n",
    "3==3.0\n",
    " "
   ]
  },
  {
   "cell_type": "code",
   "execution_count": 7,
   "id": "d1dc7818",
   "metadata": {},
   "outputs": [
    {
     "data": {
      "text/plain": [
       "'variable '"
      ]
     },
     "execution_count": 7,
     "metadata": {},
     "output_type": "execute_result"
    }
   ],
   "source": [
    "d= 'variable key'\n",
    "d[0:9]"
   ]
  },
  {
   "cell_type": "code",
   "execution_count": 8,
   "id": "d933efe6",
   "metadata": {},
   "outputs": [
    {
     "data": {
      "text/plain": [
       "'vral e'"
      ]
     },
     "execution_count": 8,
     "metadata": {},
     "output_type": "execute_result"
    }
   ],
   "source": [
    "d[: : 2]"
   ]
  },
  {
   "cell_type": "code",
   "execution_count": 9,
   "id": "07bcc5fc",
   "metadata": {},
   "outputs": [
    {
     "data": {
      "text/plain": [
       "9"
      ]
     },
     "execution_count": 9,
     "metadata": {},
     "output_type": "execute_result"
    }
   ],
   "source": [
    "h=[3,8,9,6]\n",
    "h[2]"
   ]
  },
  {
   "cell_type": "code",
   "execution_count": null,
   "id": "f3067f70",
   "metadata": {},
   "outputs": [],
   "source": []
  },
  {
   "cell_type": "code",
   "execution_count": 25,
   "id": "f3f9ea7f",
   "metadata": {},
   "outputs": [
    {
     "name": "stdout",
     "output_type": "stream",
     "text": [
      "Hello  baby\n",
      "oneQuantum Ghana\n",
      "hello \\\n",
      "hello \\\n",
      "hello \\\n",
      "\n",
      "Kwame taked about Kofi's shoe\n",
      "Kwesi said,\"my name is eric\"\n"
     ]
    },
    {
     "data": {
      "text/plain": [
       "['Afua,Kodjo,Kwesi,Kwaku']"
      ]
     },
     "execution_count": 25,
     "metadata": {},
     "output_type": "execute_result"
    }
   ],
   "source": [
    "print('Hello '+' baby')\n",
    "\n",
    "a='one'\n",
    "b='Quantum '\n",
    "c='Ghana'\n",
    "print(a+b+c) \n",
    "\n",
    "print('hello \\\\\\n'*3)\n",
    "\n",
    "n=\"Kwame taked about Kofi's shoe\"\n",
    "print(n)\n",
    "\n",
    "\n",
    "print('Kwesi said,\"my name is ERIC\"'.capitalize())\n",
    "\n",
    "\n",
    "\n",
    "l=\"Afua,Kodjo,Kwesi,Kwaku\"\n",
    "l.split(\" \")"
   ]
  },
  {
   "cell_type": "code",
   "execution_count": 11,
   "id": "ea630085",
   "metadata": {},
   "outputs": [
    {
     "name": "stdout",
     "output_type": "stream",
     "text": [
      "ERIC Sabbath hall\n"
     ]
    },
    {
     "data": {
      "text/plain": [
       "4"
      ]
     },
     "execution_count": 11,
     "metadata": {},
     "output_type": "execute_result"
    }
   ],
   "source": [
    "l=\"Mensah Sabbath hall\"\n",
    "print(l.replace('Mensah','ERIC'))\n",
    "\n",
    "l.find('S')\n",
    "l.count(\"a\")\n"
   ]
  },
  {
   "cell_type": "code",
   "execution_count": 12,
   "id": "6e2e239f",
   "metadata": {},
   "outputs": [
    {
     "data": {
      "text/plain": [
       "\"I AM Eric Dorkutso Ayitah and I'm 25 years old \""
      ]
     },
     "execution_count": 12,
     "metadata": {},
     "output_type": "execute_result"
    }
   ],
   "source": [
    "man=\"I AM Eric Dorkutso {0} and I'm {1} years old \".format(\"Ayitah\",25)\n",
    "man\n",
    "# this is a string formating"
   ]
  },
  {
   "cell_type": "code",
   "execution_count": null,
   "id": "2e636aee",
   "metadata": {},
   "outputs": [],
   "source": []
  },
  {
   "cell_type": "code",
   "execution_count": 13,
   "id": "d0bbd1a6",
   "metadata": {},
   "outputs": [
    {
     "data": {
      "text/plain": [
       "tuple"
      ]
     },
     "execution_count": 13,
     "metadata": {},
     "output_type": "execute_result"
    }
   ],
   "source": [
    "w=(2,3,4,5,6,7) #this is a tuple and it's unmutable,i.e you can't change its members\n",
    "\n",
    "type(w)\n",
    "\n"
   ]
  },
  {
   "cell_type": "code",
   "execution_count": 14,
   "id": "a3f81529",
   "metadata": {},
   "outputs": [
    {
     "data": {
      "text/plain": [
       "{1, 2, 3, 5, 7, 8, 9, 10, 12, 23, 41, 45, 67}"
      ]
     },
     "execution_count": 14,
     "metadata": {},
     "output_type": "execute_result"
    }
   ],
   "source": [
    "a={2,5,7,8,9,41,2,3,1}#this is a set and it's unordered,unmutable and unindexed but you can add any new element to it\n",
    "type(a)               # you can update the set\n",
    "\n",
    "a.add(10)\n",
    "a.update([12,23,45,67])\n",
    "a"
   ]
  },
  {
   "cell_type": "code",
   "execution_count": 15,
   "id": "c4b72954",
   "metadata": {},
   "outputs": [
    {
     "data": {
      "text/plain": [
       "frozenset({1, 2, 3, '7', '8', '9'})"
      ]
     },
     "execution_count": 15,
     "metadata": {},
     "output_type": "execute_result"
    }
   ],
   "source": [
    "d=frozenset(                  #thisset isn't changeable\n",
    "['7','9','8']\n",
    ")\n",
    "d.union({1,2,3})             # the union joins the two sets together"
   ]
  },
  {
   "cell_type": "code",
   "execution_count": 16,
   "id": "4fdaf278",
   "metadata": {},
   "outputs": [],
   "source": [
    "s={    \n",
    "    \"name\":\"AYITAH DORKUTSO ERIC\",\n",
    "    \"phone\": 555971863,\n",
    "    \"email\":\"ayitaheric64@gmail.com\",\n",
    "    \"Basic\":\"Lekpongunor D/A Primary school\"\n",
    "}\n"
   ]
  },
  {
   "cell_type": "code",
   "execution_count": 17,
   "id": "83ea139c",
   "metadata": {},
   "outputs": [
    {
     "data": {
      "text/plain": [
       "dict_values(['AYITAH DORKUTSO ERIC', 555971863, 'ayitaheric64@gmail.com', 'Lekpongunor D/A Primary school'])"
      ]
     },
     "execution_count": 17,
     "metadata": {},
     "output_type": "execute_result"
    }
   ],
   "source": [
    "s[\"name\"]\n",
    "s.get('email')\n",
    "s['Basic']\n",
    "\n",
    "s.keys()\n",
    "s.items()\n",
    "s.values()"
   ]
  },
  {
   "cell_type": "code",
   "execution_count": 18,
   "id": "e26d0293",
   "metadata": {},
   "outputs": [
    {
     "data": {
      "text/plain": [
       "34.0"
      ]
     },
     "execution_count": 18,
     "metadata": {},
     "output_type": "execute_result"
    }
   ],
   "source": [
    "type(2 + 3j) #how to write a complex number \n",
    "\n",
    "complex(2,5)\n",
    "\n",
    "float(34)"
   ]
  },
  {
   "cell_type": "code",
   "execution_count": 19,
   "id": "7343bb97",
   "metadata": {},
   "outputs": [
    {
     "name": "stdout",
     "output_type": "stream",
     "text": [
      "not true\n"
     ]
    }
   ],
   "source": [
    "\n",
    "if len('AYITAH')>8:\n",
    "    print(\"wooow\")\n",
    "elif\"Ayitah\".startswith(\"a\"):\n",
    "    print(\"low key\")\n",
    "else:\n",
    "    print(\"not true\")"
   ]
  },
  {
   "cell_type": "code",
   "execution_count": 21,
   "id": "43630617",
   "metadata": {},
   "outputs": [
    {
     "name": "stdout",
     "output_type": "stream",
     "text": [
      "\tpassed\n",
      "\tvery good\n",
      "\tEXCELLENT\n"
     ]
    }
   ],
   "source": [
    "mat =100\n",
    "if mat > 60:\n",
    "    print(\"\\tpassed\")\n",
    "    if mat>=90:  \n",
    "        print(\"\\tvery good\")\n",
    "        if mat>=96:\n",
    "            print(\"\\tEXCELLENT\")"
   ]
  },
  {
   "cell_type": "code",
   "execution_count": 24,
   "id": "0aad3c8f",
   "metadata": {},
   "outputs": [
    {
     "data": {
      "text/plain": [
       "[39, 58, 47, 60]"
      ]
     },
     "execution_count": 24,
     "metadata": {},
     "output_type": "execute_result"
    }
   ],
   "source": [
    "E=[39,58,60]\n",
    "E.insert(2,47)\n",
    "E"
   ]
  },
  {
   "cell_type": "code",
   "execution_count": null,
   "id": "34a8d11c",
   "metadata": {},
   "outputs": [],
   "source": [
    "\n"
   ]
  }
 ],
 "metadata": {
  "kernelspec": {
   "display_name": "Python 3 (ipykernel)",
   "language": "python",
   "name": "python3"
  },
  "language_info": {
   "codemirror_mode": {
    "name": "ipython",
    "version": 3
   },
   "file_extension": ".py",
   "mimetype": "text/x-python",
   "name": "python",
   "nbconvert_exporter": "python",
   "pygments_lexer": "ipython3",
   "version": "3.9.7"
  }
 },
 "nbformat": 4,
 "nbformat_minor": 5
}
