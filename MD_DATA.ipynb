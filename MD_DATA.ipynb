{
 "cells": [
  {
   "cell_type": "markdown",
   "id": "58454a4c",
   "metadata": {},
   "source": [
    "Multidimensional  Data Analysis\n",
    "=\n",
    "You can't read a csv and txt with Xarray "
   ]
  },
  {
   "cell_type": "code",
   "execution_count": null,
   "id": "5c334f7e",
   "metadata": {},
   "outputs": [],
   "source": [
    "import matplotlib as cm\n",
    "import xarray as xr\n",
    "import numpy as np\n",
    "import cartopy.crs as ccrs\n",
    "import cartopy.feature as cf\n",
    "import cartopy.io.shapereader as shapereader\n",
    "import pandas as pd\n",
    "import matplotlib.pyplot as plt"
   ]
  },
  {
   "cell_type": "code",
   "execution_count": null,
   "id": "c47f9965",
   "metadata": {},
   "outputs": [],
   "source": [
    "ds=xr.open_dataset('Total_precip_1991_2020.nc')# for only one file\n",
    "#ds =xr.open_mfdataset('Total*.nc') for multi-file"
   ]
  },
  {
   "cell_type": "code",
   "execution_count": null,
   "id": "027f1007",
   "metadata": {},
   "outputs": [],
   "source": [
    "ds"
   ]
  },
  {
   "cell_type": "code",
   "execution_count": null,
   "id": "5d3f025e",
   "metadata": {},
   "outputs": [],
   "source": [
    "precip=ds.tp"
   ]
  },
  {
   "cell_type": "code",
   "execution_count": null,
   "id": "b95fa190",
   "metadata": {},
   "outputs": [],
   "source": [
    "precip"
   ]
  },
  {
   "cell_type": "code",
   "execution_count": null,
   "id": "5909fde6",
   "metadata": {},
   "outputs": [],
   "source": [
    "ds_mm=ds.tp*1000#Change from meters  to mm"
   ]
  },
  {
   "cell_type": "code",
   "execution_count": null,
   "id": "2dc1939e",
   "metadata": {},
   "outputs": [],
   "source": [
    "ds_mm\n"
   ]
  },
  {
   "cell_type": "code",
   "execution_count": null,
   "id": "58d8643c",
   "metadata": {},
   "outputs": [],
   "source": [
    "ds.tp[0,:,:].plot()"
   ]
  },
  {
   "cell_type": "code",
   "execution_count": null,
   "id": "d6876250",
   "metadata": {},
   "outputs": [],
   "source": [
    "ds_mm[0,:,:].plot()\n"
   ]
  },
  {
   "cell_type": "code",
   "execution_count": null,
   "id": "90130b26",
   "metadata": {},
   "outputs": [],
   "source": [
    "# Time series plotting\n",
    "ds.tp[:,20,20].plot()"
   ]
  },
  {
   "cell_type": "code",
   "execution_count": null,
   "id": "73545146",
   "metadata": {},
   "outputs": [],
   "source": [
    "ds.tp.sel(longitude=18, latitude=21, method='nearest')"
   ]
  },
  {
   "cell_type": "code",
   "execution_count": null,
   "id": "e8f1e401",
   "metadata": {},
   "outputs": [],
   "source": [
    "ds.tp.sel(longitude=slice(-3.5,1.5), latitude=slice(11.5,4.5))\n",
    "#Extracting Ghana using the coordinates, W,E,N,S"
   ]
  },
  {
   "cell_type": "code",
   "execution_count": null,
   "id": "b6b60c6a",
   "metadata": {},
   "outputs": [],
   "source": [
    "ds.tp.mean('time').plot()"
   ]
  },
  {
   "cell_type": "code",
   "execution_count": null,
   "id": "bc9ed800",
   "metadata": {},
   "outputs": [],
   "source": [
    "ds.tp.sel(longitude=np.arange(-3.5,1.5,0.25), latitude=np.arange(4.5,11.5,0.25))\n",
    "#Extracting Ghana using the coordinates, W,E,S,N with a time step = resolution"
   ]
  },
  {
   "cell_type": "code",
   "execution_count": null,
   "id": "73d585a5",
   "metadata": {},
   "outputs": [],
   "source": [
    "dat=xr.open_dataset('Relative_humidity_1981_2020.nc')"
   ]
  },
  {
   "cell_type": "code",
   "execution_count": null,
   "id": "36cfe627",
   "metadata": {},
   "outputs": [],
   "source": [
    "dat"
   ]
  },
  {
   "cell_type": "code",
   "execution_count": null,
   "id": "7053135b",
   "metadata": {},
   "outputs": [],
   "source": [
    "B_F=dat.r.sel(time=slice('1995','2000'), longitude=slice(-5.2,2.5), latitude=slice(15.5,11.2))"
   ]
  },
  {
   "cell_type": "code",
   "execution_count": null,
   "id": "bccb9742",
   "metadata": {},
   "outputs": [],
   "source": [
    "B_F[0,:,:].plot()"
   ]
  },
  {
   "cell_type": "code",
   "execution_count": null,
   "id": "db8f2c75",
   "metadata": {},
   "outputs": [],
   "source": [
    "gh=dat.r.sel(time=slice('1991-01-01','1995-01-01'), longitude=slice(-3.5,1.5),latitude=slice(12,4))"
   ]
  },
  {
   "cell_type": "code",
   "execution_count": null,
   "id": "4e2f09c6",
   "metadata": {},
   "outputs": [],
   "source": [
    "gh_year=gh.groupby('time.year').mean()"
   ]
  },
  {
   "cell_type": "code",
   "execution_count": null,
   "id": "32fd0554",
   "metadata": {},
   "outputs": [],
   "source": [
    "gh_year.plot(x='longitude',y='latitude',col='year',col_wrap=3,cmap='seismic')"
   ]
  },
  {
   "cell_type": "code",
   "execution_count": null,
   "id": "c572bd49",
   "metadata": {},
   "outputs": [],
   "source": []
  },
  {
   "cell_type": "code",
   "execution_count": null,
   "id": "26cb3ce2",
   "metadata": {},
   "outputs": [],
   "source": [
    "pip install Metpy"
   ]
  },
  {
   "cell_type": "code",
   "execution_count": null,
   "id": "0d6f4e68",
   "metadata": {},
   "outputs": [],
   "source": []
  },
  {
   "cell_type": "code",
   "execution_count": null,
   "id": "9558d045",
   "metadata": {},
   "outputs": [],
   "source": []
  },
  {
   "cell_type": "code",
   "execution_count": null,
   "id": "318f7115",
   "metadata": {},
   "outputs": [],
   "source": []
  },
  {
   "cell_type": "code",
   "execution_count": null,
   "id": "2c192ee6",
   "metadata": {},
   "outputs": [],
   "source": [
    "dat.r[0,:,:].plot(label=\"Relative humidity $%$\")"
   ]
  },
  {
   "cell_type": "code",
   "execution_count": null,
   "id": "1aec6ded",
   "metadata": {},
   "outputs": [],
   "source": [
    "#shp_path ='gh_wgs16dregions.shp'\n",
    "BFA_shapes = list(shapereader.Reader(str('/home/eric/Desktop/BFA/BFA_adm1.shp')).geometries())\n"
   ]
  },
  {
   "cell_type": "code",
   "execution_count": null,
   "id": "ea59f7f4",
   "metadata": {},
   "outputs": [],
   "source": [
    "# B_F"
   ]
  },
  {
   "cell_type": "code",
   "execution_count": null,
   "id": "4b723731",
   "metadata": {},
   "outputs": [],
   "source": [
    "fig = plt.figure(figsize=(10,10))\n",
    "# create axes with specific proojection\n",
    "ax = plt.axes(projection=ccrs.PlateCarree())\n",
    "\n",
    "#Alternative \n",
    "# fig, ax = plt.subplots( figsize=(10,10),subplot_kw={'projection': ccrs.PlateCarree()})\n",
    "\n",
    "# set the domain lat lon extent\n",
    "ax.set_extent([-5.5,2.4,15.1,9.4], crs=ccrs.PlateCarree())\n",
    "\n",
    "# add the administrative borders from the shapefile\n",
    "ax.add_geometries(BFA_shapes, ccrs.PlateCarree(), edgecolor='black', facecolor='none', alpha=0.8)\n",
    "\n",
    "# and add country borders, ocean, land and lake borders from cartopy's set of features\n",
    "# ax.add_feature(cf.BORDERS)\n",
    "# ax.add_feature(cf.OCEAN )#COASTLINE\n",
    "# ax.add_feature(cf.LAND, edgecolor='black')\n",
    "# ax.add_feature(cf.LAKES, edgecolor='black')\n",
    "\n",
    "# ax.set(title='RH')\n",
    "# ax.plot(time,latitude,longitude,30,c=B_F, alpha=1)\n",
    "# splot = ax.scatter(c=B_F,cmap=cm.get_cmap('Blues'), alpha=1)\n",
    "# fig.colorbar(splot,label=\"RH ($%$)\", orientation=\"vertical\", extend='both')\n"
   ]
  },
  {
   "cell_type": "code",
   "execution_count": null,
   "id": "3b080ca1",
   "metadata": {},
   "outputs": [],
   "source": [
    "fig=plt.figure(figsize=(10,10))\n",
    "\n",
    "ax = plt.axes(projection=ccrs.PlateCarree())\n",
    "ax.set_extent([-5.7,2.5,15.5,9.5], crs=ccrs.PlateCarree())\n",
    "ax.add_feature(cf.BORDERS)\n",
    "ax.add_feature(cf.OCEAN)\n",
    "ax.add_feature(cf.LAKES, edgecolor='black')\n",
    "\n"
   ]
  },
  {
   "cell_type": "markdown",
   "id": "35af1aa5",
   "metadata": {},
   "source": [
    "RESAMPLE FUNCTION\n",
    "="
   ]
  },
  {
   "cell_type": "code",
   "execution_count": null,
   "id": "54d77a37",
   "metadata": {},
   "outputs": [],
   "source": [
    "BF_Y=B_F.resample(time='2y').sum() #Yearly mean"
   ]
  },
  {
   "cell_type": "code",
   "execution_count": null,
   "id": "c39ddad7",
   "metadata": {},
   "outputs": [],
   "source": [
    "BF_M=B_F.resample(time='M').mean() #Monthly mean "
   ]
  },
  {
   "cell_type": "code",
   "execution_count": null,
   "id": "35f89e4b",
   "metadata": {},
   "outputs": [],
   "source": [
    "BF_D=B_F.resample(time='7d').mean() #Daily mean"
   ]
  },
  {
   "cell_type": "markdown",
   "id": "7ee8e6e9",
   "metadata": {},
   "source": [
    "GROUPBY FUNCTION\n",
    "="
   ]
  },
  {
   "cell_type": "code",
   "execution_count": null,
   "id": "1ddba333",
   "metadata": {},
   "outputs": [],
   "source": [
    "BF_S=B_F.groupby('time.season').mean() # Seasonal mean"
   ]
  },
  {
   "cell_type": "code",
   "execution_count": null,
   "id": "64332846",
   "metadata": {},
   "outputs": [],
   "source": [
    "BF_y=B_F.groupby('time.year').mean() #Yearly mean"
   ]
  },
  {
   "cell_type": "code",
   "execution_count": null,
   "id": "7c6f0f25",
   "metadata": {},
   "outputs": [],
   "source": [
    "BF_m=B_F.groupby('time.month').mean()"
   ]
  },
  {
   "cell_type": "code",
   "execution_count": null,
   "id": "aacb9108",
   "metadata": {},
   "outputs": [],
   "source": [
    "BF_d=B_F.groupby('time.day').mean()"
   ]
  },
  {
   "cell_type": "code",
   "execution_count": null,
   "id": "7ca072e0",
   "metadata": {},
   "outputs": [],
   "source": [
    "BF_S[2,:,:].plot()"
   ]
  },
  {
   "cell_type": "code",
   "execution_count": null,
   "id": "dde1e806",
   "metadata": {},
   "outputs": [],
   "source": []
  }
 ],
 "metadata": {
  "kernelspec": {
   "display_name": "Python 3 (ipykernel)",
   "language": "python",
   "name": "python3"
  },
  "language_info": {
   "codemirror_mode": {
    "name": "ipython",
    "version": 3
   },
   "file_extension": ".py",
   "mimetype": "text/x-python",
   "name": "python",
   "nbconvert_exporter": "python",
   "pygments_lexer": "ipython3",
   "version": "3.9.7"
  }
 },
 "nbformat": 4,
 "nbformat_minor": 5
}
